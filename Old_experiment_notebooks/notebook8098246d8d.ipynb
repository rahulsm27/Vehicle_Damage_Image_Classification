{
 "cells": [
  {
   "cell_type": "code",
   "execution_count": 1,
   "id": "de3adfa8",
   "metadata": {
    "execution": {
     "iopub.execute_input": "2023-12-02T08:40:43.381019Z",
     "iopub.status.busy": "2023-12-02T08:40:43.380685Z",
     "iopub.status.idle": "2023-12-02T08:41:19.482681Z",
     "shell.execute_reply": "2023-12-02T08:41:19.481609Z"
    },
    "id": "4yRL3JNr7AZE",
    "outputId": "9acc0b84-982b-4955-b4b3-8c65195450f4",
    "papermill": {
     "duration": 36.120339,
     "end_time": "2023-12-02T08:41:19.485088",
     "exception": false,
     "start_time": "2023-12-02T08:40:43.364749",
     "status": "completed"
    },
    "tags": []
   },
   "outputs": [
    {
     "name": "stdout",
     "output_type": "stream",
     "text": [
      "Collecting split-folders\r\n",
      "  Downloading split_folders-0.5.1-py3-none-any.whl (8.4 kB)\r\n",
      "Installing collected packages: split-folders\r\n",
      "Successfully installed split-folders-0.5.1\r\n",
      "Collecting keras-efficientnet\r\n",
      "  Downloading keras_efficientnet-0.1.4-py3-none-any.whl (17 kB)\r\n",
      "Installing collected packages: keras-efficientnet\r\n",
      "Successfully installed keras-efficientnet-0.1.4\r\n",
      "Collecting efficientnet\r\n",
      "  Downloading efficientnet-1.1.1-py3-none-any.whl (18 kB)\r\n",
      "Collecting keras-applications<=1.0.8,>=1.0.7 (from efficientnet)\r\n",
      "  Downloading Keras_Applications-1.0.8-py3-none-any.whl (50 kB)\r\n",
      "\u001b[2K     \u001b[90m━━━━━━━━━━━━━━━━━━━━━━━━━━━━━━━━━━━━━━━━\u001b[0m \u001b[32m50.7/50.7 kB\u001b[0m \u001b[31m3.9 MB/s\u001b[0m eta \u001b[36m0:00:00\u001b[0m\r\n",
      "\u001b[?25hRequirement already satisfied: scikit-image in /opt/conda/lib/python3.10/site-packages (from efficientnet) (0.21.0)\r\n",
      "Requirement already satisfied: numpy>=1.9.1 in /opt/conda/lib/python3.10/site-packages (from keras-applications<=1.0.8,>=1.0.7->efficientnet) (1.24.3)\r\n",
      "Requirement already satisfied: h5py in /opt/conda/lib/python3.10/site-packages (from keras-applications<=1.0.8,>=1.0.7->efficientnet) (3.9.0)\r\n",
      "Requirement already satisfied: scipy>=1.8 in /opt/conda/lib/python3.10/site-packages (from scikit-image->efficientnet) (1.11.3)\r\n",
      "Requirement already satisfied: networkx>=2.8 in /opt/conda/lib/python3.10/site-packages (from scikit-image->efficientnet) (3.1)\r\n",
      "Requirement already satisfied: pillow>=9.0.1 in /opt/conda/lib/python3.10/site-packages (from scikit-image->efficientnet) (10.1.0)\r\n",
      "Requirement already satisfied: imageio>=2.27 in /opt/conda/lib/python3.10/site-packages (from scikit-image->efficientnet) (2.31.1)\r\n",
      "Requirement already satisfied: tifffile>=2022.8.12 in /opt/conda/lib/python3.10/site-packages (from scikit-image->efficientnet) (2023.8.12)\r\n",
      "Requirement already satisfied: PyWavelets>=1.1.1 in /opt/conda/lib/python3.10/site-packages (from scikit-image->efficientnet) (1.4.1)\r\n",
      "Requirement already satisfied: packaging>=21 in /opt/conda/lib/python3.10/site-packages (from scikit-image->efficientnet) (21.3)\r\n",
      "Requirement already satisfied: lazy_loader>=0.2 in /opt/conda/lib/python3.10/site-packages (from scikit-image->efficientnet) (0.3)\r\n",
      "Requirement already satisfied: pyparsing!=3.0.5,>=2.0.2 in /opt/conda/lib/python3.10/site-packages (from packaging>=21->scikit-image->efficientnet) (3.0.9)\r\n",
      "Installing collected packages: keras-applications, efficientnet\r\n",
      "Successfully installed efficientnet-1.1.1 keras-applications-1.0.8\r\n"
     ]
    }
   ],
   "source": [
    "#Installing libraries\n",
    "!pip3 install split-folders\n",
    "!pip3 install keras-efficientnet\n",
    "!pip3 install -U efficientnet\n",
    "#!pip3 install --upgrade tensorflow"
   ]
  },
  {
   "cell_type": "code",
   "execution_count": 2,
   "id": "9344eefa",
   "metadata": {
    "execution": {
     "iopub.execute_input": "2023-12-02T08:41:19.517279Z",
     "iopub.status.busy": "2023-12-02T08:41:19.516851Z",
     "iopub.status.idle": "2023-12-02T08:41:20.415667Z",
     "shell.execute_reply": "2023-12-02T08:41:20.414842Z"
    },
    "id": "oOML4Zt17AZJ",
    "papermill": {
     "duration": 0.917332,
     "end_time": "2023-12-02T08:41:20.417951",
     "exception": false,
     "start_time": "2023-12-02T08:41:19.500619",
     "status": "completed"
    },
    "tags": []
   },
   "outputs": [],
   "source": [
    "# Importing libraries\n",
    "import pandas as pd\n",
    "import numpy as np\n",
    "\n",
    "import os\n",
    "import shutil\n",
    "\n",
    "import cv2\n",
    "from PIL import Image\n",
    "\n",
    "import matplotlib.pyplot as plt\n",
    "%matplotlib inline\n",
    "from IPython.display import display\n",
    "\n",
    "colab = False\n",
    "kaggle = True"
   ]
  },
  {
   "cell_type": "code",
   "execution_count": 3,
   "id": "f9c2ac20",
   "metadata": {
    "execution": {
     "iopub.execute_input": "2023-12-02T08:41:20.449834Z",
     "iopub.status.busy": "2023-12-02T08:41:20.449420Z",
     "iopub.status.idle": "2023-12-02T08:41:20.453316Z",
     "shell.execute_reply": "2023-12-02T08:41:20.452521Z"
    },
    "papermill": {
     "duration": 0.021995,
     "end_time": "2023-12-02T08:41:20.455315",
     "exception": false,
     "start_time": "2023-12-02T08:41:20.433320",
     "status": "completed"
    },
    "tags": []
   },
   "outputs": [],
   "source": [
    "# import shutil\n",
    "\n",
    "# shutil.rmtree('/kaggle/working/dataset_final')\n",
    "\n",
    "# shutil.rmtree('/kaggle/working/dataset')"
   ]
  },
  {
   "cell_type": "code",
   "execution_count": 4,
   "id": "04164a62",
   "metadata": {
    "execution": {
     "iopub.execute_input": "2023-12-02T08:41:20.486864Z",
     "iopub.status.busy": "2023-12-02T08:41:20.486582Z",
     "iopub.status.idle": "2023-12-02T08:41:20.490661Z",
     "shell.execute_reply": "2023-12-02T08:41:20.489834Z"
    },
    "id": "BCmfI72h7EXL",
    "outputId": "71e55f13-554b-4dcf-ba4c-688dc86578f5",
    "papermill": {
     "duration": 0.022267,
     "end_time": "2023-12-02T08:41:20.492560",
     "exception": false,
     "start_time": "2023-12-02T08:41:20.470293",
     "status": "completed"
    },
    "tags": []
   },
   "outputs": [],
   "source": [
    "if colab :\n",
    "  from google.colab import drive\n",
    "\n",
    "  # Mount Google Drive\n",
    "  drive.mount('/content/drive')\n"
   ]
  },
  {
   "cell_type": "code",
   "execution_count": 5,
   "id": "203797e7",
   "metadata": {
    "execution": {
     "iopub.execute_input": "2023-12-02T08:41:20.524541Z",
     "iopub.status.busy": "2023-12-02T08:41:20.524237Z",
     "iopub.status.idle": "2023-12-02T08:41:20.565209Z",
     "shell.execute_reply": "2023-12-02T08:41:20.564447Z"
    },
    "id": "UJGAanLD7AZK",
    "papermill": {
     "duration": 0.059015,
     "end_time": "2023-12-02T08:41:20.567212",
     "exception": false,
     "start_time": "2023-12-02T08:41:20.508197",
     "status": "completed"
    },
    "tags": []
   },
   "outputs": [],
   "source": [
    "if colab:\n",
    "    train_csv = pd.read_csv(\"/content/drive/MyDrive/hackathon/train/train.csv\")\n",
    "    test_csv =  pd.read_csv(\"/content/drive/MyDrive/hackathon/test/test.csv\")\n",
    "elif kaggle:\n",
    "    train_csv = pd.read_csv(\"/kaggle/input/dataset/train/train.csv\")\n",
    "    test_csv =  pd.read_csv(\"/kaggle/input/dataset/test/test.csv\")\n",
    "else:\n",
    "    train_csv = pd.read_csv(\"./train/train.csv\")\n",
    "    test_csv =  pd.read_csv(\"./test/test.csv\")\n",
    "\n",
    "labels = {1:'crack',2:'scratch',3:'tire flat',4 :'dent', 5: 'glass shatter', 6: 'lamp broken'}"
   ]
  },
  {
   "cell_type": "code",
   "execution_count": 6,
   "id": "ada01979",
   "metadata": {
    "execution": {
     "iopub.execute_input": "2023-12-02T08:41:20.599090Z",
     "iopub.status.busy": "2023-12-02T08:41:20.598772Z",
     "iopub.status.idle": "2023-12-02T08:41:20.603494Z",
     "shell.execute_reply": "2023-12-02T08:41:20.602665Z"
    },
    "id": "JX4GGn4F7AZL",
    "outputId": "6336cbcb-5bac-4509-c988-6c68235cd6d4",
    "papermill": {
     "duration": 0.02267,
     "end_time": "2023-12-02T08:41:20.605410",
     "exception": false,
     "start_time": "2023-12-02T08:41:20.582740",
     "status": "completed"
    },
    "tags": []
   },
   "outputs": [
    {
     "name": "stdout",
     "output_type": "stream",
     "text": [
      "train_csv.shape=(7200, 3)\n",
      "test_csv.shape=(4800, 2)\n"
     ]
    }
   ],
   "source": [
    "# Checking number of records\n",
    "print(f\"{train_csv.shape=}\")\n",
    "print(f\"{test_csv.shape=}\")"
   ]
  },
  {
   "cell_type": "code",
   "execution_count": 7,
   "id": "c5e7d3ed",
   "metadata": {
    "execution": {
     "iopub.execute_input": "2023-12-02T08:41:20.636679Z",
     "iopub.status.busy": "2023-12-02T08:41:20.636400Z",
     "iopub.status.idle": "2023-12-02T08:41:20.651550Z",
     "shell.execute_reply": "2023-12-02T08:41:20.650732Z"
    },
    "id": "WhONUUYy7AZL",
    "outputId": "5b6146fe-518e-496c-926e-70bdc6a67576",
    "papermill": {
     "duration": 0.032762,
     "end_time": "2023-12-02T08:41:20.653332",
     "exception": false,
     "start_time": "2023-12-02T08:41:20.620570",
     "status": "completed"
    },
    "tags": []
   },
   "outputs": [
    {
     "data": {
      "text/html": [
       "<div>\n",
       "<style scoped>\n",
       "    .dataframe tbody tr th:only-of-type {\n",
       "        vertical-align: middle;\n",
       "    }\n",
       "\n",
       "    .dataframe tbody tr th {\n",
       "        vertical-align: top;\n",
       "    }\n",
       "\n",
       "    .dataframe thead th {\n",
       "        text-align: right;\n",
       "    }\n",
       "</style>\n",
       "<table border=\"1\" class=\"dataframe\">\n",
       "  <thead>\n",
       "    <tr style=\"text-align: right;\">\n",
       "      <th></th>\n",
       "      <th>image_id</th>\n",
       "      <th>filename</th>\n",
       "      <th>label</th>\n",
       "    </tr>\n",
       "  </thead>\n",
       "  <tbody>\n",
       "    <tr>\n",
       "      <th>0</th>\n",
       "      <td>1</td>\n",
       "      <td>1.jpg</td>\n",
       "      <td>2</td>\n",
       "    </tr>\n",
       "    <tr>\n",
       "      <th>1</th>\n",
       "      <td>2</td>\n",
       "      <td>2.jpg</td>\n",
       "      <td>4</td>\n",
       "    </tr>\n",
       "    <tr>\n",
       "      <th>2</th>\n",
       "      <td>3</td>\n",
       "      <td>3.jpg</td>\n",
       "      <td>2</td>\n",
       "    </tr>\n",
       "    <tr>\n",
       "      <th>3</th>\n",
       "      <td>4</td>\n",
       "      <td>4.jpg</td>\n",
       "      <td>3</td>\n",
       "    </tr>\n",
       "    <tr>\n",
       "      <th>4</th>\n",
       "      <td>5</td>\n",
       "      <td>5.jpg</td>\n",
       "      <td>5</td>\n",
       "    </tr>\n",
       "  </tbody>\n",
       "</table>\n",
       "</div>"
      ],
      "text/plain": [
       "   image_id filename  label\n",
       "0         1    1.jpg      2\n",
       "1         2    2.jpg      4\n",
       "2         3    3.jpg      2\n",
       "3         4    4.jpg      3\n",
       "4         5    5.jpg      5"
      ]
     },
     "execution_count": 7,
     "metadata": {},
     "output_type": "execute_result"
    }
   ],
   "source": [
    "# Lets have a look at csv file\n",
    "train_csv.head()"
   ]
  },
  {
   "cell_type": "code",
   "execution_count": 8,
   "id": "15ed7a19",
   "metadata": {
    "execution": {
     "iopub.execute_input": "2023-12-02T08:41:20.685202Z",
     "iopub.status.busy": "2023-12-02T08:41:20.684912Z",
     "iopub.status.idle": "2023-12-02T08:41:20.691172Z",
     "shell.execute_reply": "2023-12-02T08:41:20.690371Z"
    },
    "id": "qs_UDMyV7AZM",
    "outputId": "43bafad5-3599-4716-89fd-99d129d05816",
    "papermill": {
     "duration": 0.024301,
     "end_time": "2023-12-02T08:41:20.693057",
     "exception": false,
     "start_time": "2023-12-02T08:41:20.668756",
     "status": "completed"
    },
    "tags": []
   },
   "outputs": [
    {
     "data": {
      "text/plain": [
       "image_id     int64\n",
       "filename    object\n",
       "label        int64\n",
       "dtype: object"
      ]
     },
     "execution_count": 8,
     "metadata": {},
     "output_type": "execute_result"
    }
   ],
   "source": [
    "train_csv.dtypes"
   ]
  },
  {
   "cell_type": "code",
   "execution_count": 9,
   "id": "f733c4ff",
   "metadata": {
    "execution": {
     "iopub.execute_input": "2023-12-02T08:41:20.724694Z",
     "iopub.status.busy": "2023-12-02T08:41:20.724404Z",
     "iopub.status.idle": "2023-12-02T08:41:20.737796Z",
     "shell.execute_reply": "2023-12-02T08:41:20.736988Z"
    },
    "id": "f1DnAIiL7AZN",
    "outputId": "e51fff54-4f28-4661-8f65-a3d0a332845b",
    "papermill": {
     "duration": 0.031248,
     "end_time": "2023-12-02T08:41:20.739617",
     "exception": false,
     "start_time": "2023-12-02T08:41:20.708369",
     "status": "completed"
    },
    "tags": []
   },
   "outputs": [
    {
     "data": {
      "text/plain": [
       "label\n",
       "2    2349\n",
       "4    2079\n",
       "5    1185\n",
       "6     882\n",
       "3     534\n",
       "1     171\n",
       "Name: count, dtype: int64"
      ]
     },
     "execution_count": 9,
     "metadata": {},
     "output_type": "execute_result"
    }
   ],
   "source": [
    "# Let us see number of data points for each labels\n",
    "train_csv['label'].value_counts()\n"
   ]
  },
  {
   "cell_type": "code",
   "execution_count": 10,
   "id": "b62f1796",
   "metadata": {
    "execution": {
     "iopub.execute_input": "2023-12-02T08:41:20.771822Z",
     "iopub.status.busy": "2023-12-02T08:41:20.771524Z",
     "iopub.status.idle": "2023-12-02T08:41:21.015159Z",
     "shell.execute_reply": "2023-12-02T08:41:21.014228Z"
    },
    "id": "zEhZPwUC7AZO",
    "papermill": {
     "duration": 0.262477,
     "end_time": "2023-12-02T08:41:21.017536",
     "exception": false,
     "start_time": "2023-12-02T08:41:20.755059",
     "status": "completed"
    },
    "tags": []
   },
   "outputs": [],
   "source": [
    "# Define image folder path\n",
    "if colab:\n",
    "    path_to_train_images = \"/content/drive/MyDrive/hackathon/train/images/\"\n",
    "    path_to_test_images = \"/content/drive/MyDrive/hackathon/test/images/\"\n",
    "elif kaggle:\n",
    "    path_to_train_images = \"/kaggle/input/dataset/train/images/\"\n",
    "    path_to_test_images = \"/kaggle/input/dataset/test/images/\"\n",
    "else:\n",
    "    path_to_train_images = \"./train/images/\"\n",
    "    path_to_test_images = \"./test/images/\"\n",
    "\n",
    "# Listing all images\n",
    "train_image_files = os.listdir(path_to_train_images)\n",
    "#test_image_files = os.listdir(path_to_test_images)\n",
    "\n",
    "train_image_files = [t for t in train_image_files if t.endswith(\".jpg\")]\n",
    "train_image_files=[t for t in train_image_files if '(' not in t]"
   ]
  },
  {
   "cell_type": "code",
   "execution_count": 11,
   "id": "26ffad9d",
   "metadata": {
    "execution": {
     "iopub.execute_input": "2023-12-02T08:41:21.093942Z",
     "iopub.status.busy": "2023-12-02T08:41:21.093600Z",
     "iopub.status.idle": "2023-12-02T08:41:21.097646Z",
     "shell.execute_reply": "2023-12-02T08:41:21.096760Z"
    },
    "id": "Q-nvkg3G7AZO",
    "papermill": {
     "duration": 0.022932,
     "end_time": "2023-12-02T08:41:21.099638",
     "exception": false,
     "start_time": "2023-12-02T08:41:21.076706",
     "status": "completed"
    },
    "tags": []
   },
   "outputs": [],
   "source": [
    "# print(f\"{train_image_files=}\")\n",
    "# print(f\"{test_image_files=}\")\n",
    "#len(set(train_image_files))"
   ]
  },
  {
   "cell_type": "code",
   "execution_count": 12,
   "id": "8780e32a",
   "metadata": {
    "execution": {
     "iopub.execute_input": "2023-12-02T08:41:21.132308Z",
     "iopub.status.busy": "2023-12-02T08:41:21.131982Z",
     "iopub.status.idle": "2023-12-02T08:41:21.136481Z",
     "shell.execute_reply": "2023-12-02T08:41:21.135513Z"
    },
    "id": "fSeUj4qO7AZP",
    "papermill": {
     "duration": 0.022969,
     "end_time": "2023-12-02T08:41:21.138385",
     "exception": false,
     "start_time": "2023-12-02T08:41:21.115416",
     "status": "completed"
    },
    "tags": []
   },
   "outputs": [],
   "source": [
    "\n",
    "# # Check some images of train\n",
    "\n",
    "# for i,image_file in enumerate(train_image_files):\n",
    "#     if image_file.endswith(\".jpg\") or image_file.endswith(\".png\"):\n",
    "#         if i < 5:\n",
    "#             print('Labels : ' , f\"{labels[int(train_csv.loc[train_csv['filename'] == image_file]['label'])]}\")\n",
    "\n",
    "#             image = Image.open(path_to_train_images + image_file)\n",
    "#             display(image)\n",
    "\n",
    "#             print(\"-\"*50)\n",
    "\n",
    "#         else:\n",
    "#             break"
   ]
  },
  {
   "cell_type": "code",
   "execution_count": 13,
   "id": "7d85c21c",
   "metadata": {
    "execution": {
     "iopub.execute_input": "2023-12-02T08:41:21.170718Z",
     "iopub.status.busy": "2023-12-02T08:41:21.170444Z",
     "iopub.status.idle": "2023-12-02T08:41:21.174882Z",
     "shell.execute_reply": "2023-12-02T08:41:21.174090Z"
    },
    "id": "T2p9xNej7AZQ",
    "papermill": {
     "duration": 0.022812,
     "end_time": "2023-12-02T08:41:21.176821",
     "exception": false,
     "start_time": "2023-12-02T08:41:21.154009",
     "status": "completed"
    },
    "tags": []
   },
   "outputs": [],
   "source": [
    "# # Let us find the maximum height and maximum weight in all images\n",
    "# train_max_width = -float('inf')\n",
    "# train_max_height = -float('inf')\n",
    "\n",
    "# train_min_width = float('inf')\n",
    "# train_min_height = float('inf')\n",
    "\n",
    "\n",
    "# for image_file in train_image_files:\n",
    "#     if image_file.endswith(\".jpg\") or image_file.endswith(\".png\"):\n",
    "#         image = Image.open(path_to_train_images + image_file)\n",
    "\n",
    "#         width, height = image.size\n",
    "\n",
    "#         train_max_height = max(height,train_max_height)\n",
    "#         train_max_width = max(width,train_max_width)\n",
    "\n",
    "#         train_min_width = min(height,train_max_height)\n",
    "#         train_min_height = min(height,train_max_height)\n",
    "\n",
    "# print(f\"{train_max_height=}\")\n",
    "\n",
    "# print(f\"{train_max_width=}\")\n",
    "\n",
    "# print(f\"{train_min_height=}\")\n",
    "\n",
    "# print(f\"{train_min_width=}\")"
   ]
  },
  {
   "cell_type": "code",
   "execution_count": null,
   "id": "b4672bc3",
   "metadata": {
    "id": "zE5CpXUcZgfC",
    "papermill": {
     "duration": 0.015295,
     "end_time": "2023-12-02T08:41:21.207675",
     "exception": false,
     "start_time": "2023-12-02T08:41:21.192380",
     "status": "completed"
    },
    "tags": []
   },
   "outputs": [],
   "source": []
  },
  {
   "cell_type": "code",
   "execution_count": null,
   "id": "faebcc74",
   "metadata": {
    "papermill": {
     "duration": 0.015335,
     "end_time": "2023-12-02T08:41:21.238521",
     "exception": false,
     "start_time": "2023-12-02T08:41:21.223186",
     "status": "completed"
    },
    "tags": []
   },
   "outputs": [],
   "source": []
  },
  {
   "cell_type": "code",
   "execution_count": 14,
   "id": "25fa966b",
   "metadata": {
    "execution": {
     "iopub.execute_input": "2023-12-02T08:41:21.270894Z",
     "iopub.status.busy": "2023-12-02T08:41:21.270589Z",
     "iopub.status.idle": "2023-12-02T08:42:15.659387Z",
     "shell.execute_reply": "2023-12-02T08:42:15.658561Z"
    },
    "id": "XQiGLEz47AZR",
    "papermill": {
     "duration": 54.407815,
     "end_time": "2023-12-02T08:42:15.661815",
     "exception": false,
     "start_time": "2023-12-02T08:41:21.254000",
     "status": "completed"
    },
    "tags": []
   },
   "outputs": [],
   "source": [
    "labels = {1:'crack',2:'scratch',3:'tire flat',4 :'dent', 5: 'glass shatter', 6: 'lamp broken'}\n",
    "folder = './dataset/train'\n",
    "train_image_files=[t for t in train_image_files if '(' not in t]\n",
    "\n",
    "#making folder for each classes\n",
    "for values in labels:\n",
    "    path = os.path.join(folder,str(values))\n",
    "    os.makedirs(path,exist_ok=True)\n",
    "\n",
    "# coping our raw data to each classes\n",
    "\n",
    "for image in train_image_files:\n",
    " #   print(image)\n",
    "    label = int((train_csv[train_csv['filename'] == image]['label']).iloc[0])\n",
    "  #  print(label)\n",
    "  #  path = os.path.join(folder,label,'/')\n",
    "    from_path = os.path.join(path_to_train_images,image)\n",
    "    to_path = os.path.join(folder,str(label))\n",
    "    if not os.path.exists(os.path.join(to_path,image)):\n",
    "      shutil.copy(from_path,to_path)\n"
   ]
  },
  {
   "cell_type": "code",
   "execution_count": 15,
   "id": "80ae0411",
   "metadata": {
    "execution": {
     "iopub.execute_input": "2023-12-02T08:42:15.695896Z",
     "iopub.status.busy": "2023-12-02T08:42:15.695230Z",
     "iopub.status.idle": "2023-12-02T08:42:16.183841Z",
     "shell.execute_reply": "2023-12-02T08:42:16.182883Z"
    },
    "id": "rrjBjBSf7AZS",
    "outputId": "dcbc974b-3833-4d12-af42-3084ffe7160c",
    "papermill": {
     "duration": 0.507685,
     "end_time": "2023-12-02T08:42:16.186123",
     "exception": false,
     "start_time": "2023-12-02T08:42:15.678438",
     "status": "completed"
    },
    "tags": []
   },
   "outputs": [
    {
     "name": "stderr",
     "output_type": "stream",
     "text": [
      "Copying files: 7200 files [00:00, 15672.51 files/s]\n"
     ]
    }
   ],
   "source": [
    "\n",
    "import splitfolders\n",
    "\n",
    "# Split with a ratio.\n",
    "# To only split into training and validation set, set a tuple to `ratio`, i.e, `(.8, .2)`.\n",
    "splitfolders.ratio(\"./dataset/train\", output=\"./dataset_final\",\n",
    "    seed=1337, ratio=(.8, .2, ), group_prefix=None, move=True) # default values\n"
   ]
  },
  {
   "cell_type": "code",
   "execution_count": 16,
   "id": "a61540d7",
   "metadata": {
    "execution": {
     "iopub.execute_input": "2023-12-02T08:42:16.219902Z",
     "iopub.status.busy": "2023-12-02T08:42:16.219600Z",
     "iopub.status.idle": "2023-12-02T08:42:27.854414Z",
     "shell.execute_reply": "2023-12-02T08:42:27.853442Z"
    },
    "id": "xlmdAI347AZT",
    "papermill": {
     "duration": 11.65438,
     "end_time": "2023-12-02T08:42:27.856944",
     "exception": false,
     "start_time": "2023-12-02T08:42:16.202564",
     "status": "completed"
    },
    "tags": []
   },
   "outputs": [
    {
     "name": "stderr",
     "output_type": "stream",
     "text": [
      "/opt/conda/lib/python3.10/site-packages/scipy/__init__.py:146: UserWarning: A NumPy version >=1.16.5 and <1.23.0 is required for this version of SciPy (detected version 1.24.3\n",
      "  warnings.warn(f\"A NumPy version >={np_minversion} and <{np_maxversion}\"\n"
     ]
    }
   ],
   "source": [
    "from tensorflow.keras.applications import EfficientNetB7"
   ]
  },
  {
   "cell_type": "code",
   "execution_count": 17,
   "id": "b7fee7be",
   "metadata": {
    "execution": {
     "iopub.execute_input": "2023-12-02T08:42:27.892001Z",
     "iopub.status.busy": "2023-12-02T08:42:27.891429Z",
     "iopub.status.idle": "2023-12-02T08:42:27.898949Z",
     "shell.execute_reply": "2023-12-02T08:42:27.898117Z"
    },
    "id": "7ms4WBmi7AZU",
    "papermill": {
     "duration": 0.026857,
     "end_time": "2023-12-02T08:42:27.900830",
     "exception": false,
     "start_time": "2023-12-02T08:42:27.873973",
     "status": "completed"
    },
    "tags": []
   },
   "outputs": [],
   "source": [
    "import tensorflow as tf\n",
    "from tensorflow.python.keras.models import Sequential\n",
    "from tensorflow.python.keras.layers import Dense, Flatten, GlobalAveragePooling2D, Dropout\n",
    "from tensorflow.keras.preprocessing.image import ImageDataGenerator\n",
    "from tensorflow.keras.optimizers import RMSprop\n",
    "\n",
    "import keras\n",
    "from keras import layers\n",
    "\n",
    "\n",
    "IMG_SIZE = 600\n",
    "batch = 32"
   ]
  },
  {
   "cell_type": "code",
   "execution_count": 18,
   "id": "3259ac8e",
   "metadata": {
    "execution": {
     "iopub.execute_input": "2023-12-02T08:42:27.934501Z",
     "iopub.status.busy": "2023-12-02T08:42:27.934208Z",
     "iopub.status.idle": "2023-12-02T08:42:28.316274Z",
     "shell.execute_reply": "2023-12-02T08:42:28.315510Z"
    },
    "id": "gtNDUI3E7AZU",
    "outputId": "d647b072-5c9e-4e2d-9ec3-0c5fd3bc43bc",
    "papermill": {
     "duration": 0.401271,
     "end_time": "2023-12-02T08:42:28.318279",
     "exception": false,
     "start_time": "2023-12-02T08:42:27.917008",
     "status": "completed"
    },
    "tags": []
   },
   "outputs": [
    {
     "name": "stdout",
     "output_type": "stream",
     "text": [
      "Found 5758 images belonging to 6 classes.\n",
      "Found 1442 images belonging to 6 classes.\n"
     ]
    }
   ],
   "source": [
    "# Add our data-augmentation parameters to ImageDataGenerator\n",
    "\n",
    "train_dir = './dataset_final/train'\n",
    "validation_dir = './dataset_final/val'\n",
    "\n",
    "\n",
    "train_datagen = ImageDataGenerator()#rotation_range = 40, width_shift_range = 0.2, height_shift_range = 0.2, shear_range = 0.2, zoom_range = 0.2, horizontal_flip = True)\n",
    "\n",
    "valid_datagen = ImageDataGenerator()\n",
    "\n",
    "\n",
    "train_generator = train_datagen.flow_from_directory(train_dir, batch_size = batch, class_mode = 'categorical', target_size = (IMG_SIZE , IMG_SIZE ))\n",
    "\n",
    "validation_generator = valid_datagen.flow_from_directory( validation_dir, batch_size = batch, class_mode = 'categorical', target_size = (IMG_SIZE, IMG_SIZE))\n",
    "\n"
   ]
  },
  {
   "cell_type": "code",
   "execution_count": null,
   "id": "6303dd86",
   "metadata": {
    "id": "tkTXvgqW3kIf",
    "papermill": {
     "duration": 0.016427,
     "end_time": "2023-12-02T08:42:28.351635",
     "exception": false,
     "start_time": "2023-12-02T08:42:28.335208",
     "status": "completed"
    },
    "tags": []
   },
   "outputs": [],
   "source": []
  },
  {
   "cell_type": "code",
   "execution_count": 19,
   "id": "fa9197ed",
   "metadata": {
    "execution": {
     "iopub.execute_input": "2023-12-02T08:42:28.385657Z",
     "iopub.status.busy": "2023-12-02T08:42:28.385351Z",
     "iopub.status.idle": "2023-12-02T08:42:28.389957Z",
     "shell.execute_reply": "2023-12-02T08:42:28.389115Z"
    },
    "id": "-2eDfqWD3kF5",
    "papermill": {
     "duration": 0.023792,
     "end_time": "2023-12-02T08:42:28.391816",
     "exception": false,
     "start_time": "2023-12-02T08:42:28.368024",
     "status": "completed"
    },
    "tags": []
   },
   "outputs": [],
   "source": [
    "# import keras\n",
    "# from keras import layers\n",
    "\n",
    "\n",
    "# def build_model(num_classes):\n",
    "#     inputs = layers.Input(shape=(IMG_SIZE, IMG_SIZE, 3))\n",
    "#     model = EfficientNetB7(include_top=False, input_tensor=inputs, weights=\"imagenet\")\n",
    "\n",
    "#     # Freeze the pretrained weights\n",
    "#     model.trainable = False\n",
    "\n",
    "#     # Rebuild top\n",
    "#     x = layers.GlobalAveragePooling2D(name=\"avg_pool\")(model.output)\n",
    "#     x = layers.BatchNormalization()(x)\n",
    "\n",
    "#     top_dropout_rate = 0.2\n",
    "#     x = layers.Dropout(top_dropout_rate, name=\"top_dropout\")(x)\n",
    "#     outputs = layers.Dense(num_classes, activation=\"softmax\", name=\"pred\")(x)\n",
    "\n",
    "#     # Compile\n",
    "#     model = keras.Model(inputs, outputs, name=\"EfficientNet\")\n",
    "#     optimizer = keras.optimizers.Adam(learning_rate=1e-1)\n",
    "#     model.compile(\n",
    "#         optimizer=optimizer, loss=\"categorical_crossentropy\", metrics=[\"accuracy\"]\n",
    "#     )\n",
    "#     return model"
   ]
  },
  {
   "cell_type": "code",
   "execution_count": 20,
   "id": "12039603",
   "metadata": {
    "execution": {
     "iopub.execute_input": "2023-12-02T08:42:28.425931Z",
     "iopub.status.busy": "2023-12-02T08:42:28.425664Z",
     "iopub.status.idle": "2023-12-02T08:42:28.429517Z",
     "shell.execute_reply": "2023-12-02T08:42:28.428652Z"
    },
    "id": "pjqEtRbPebkb",
    "papermill": {
     "duration": 0.023255,
     "end_time": "2023-12-02T08:42:28.431449",
     "exception": false,
     "start_time": "2023-12-02T08:42:28.408194",
     "status": "completed"
    },
    "tags": []
   },
   "outputs": [],
   "source": [
    "# NUM_CLASSES = 6\n",
    "# model = build_model(num_classes=NUM_CLASSES)\n",
    "\n"
   ]
  },
  {
   "cell_type": "code",
   "execution_count": 21,
   "id": "cb837ac2",
   "metadata": {
    "execution": {
     "iopub.execute_input": "2023-12-02T08:42:28.465127Z",
     "iopub.status.busy": "2023-12-02T08:42:28.464803Z",
     "iopub.status.idle": "2023-12-02T08:42:28.468789Z",
     "shell.execute_reply": "2023-12-02T08:42:28.468033Z"
    },
    "id": "klIHmZ8jeR99",
    "papermill": {
     "duration": 0.022886,
     "end_time": "2023-12-02T08:42:28.470624",
     "exception": false,
     "start_time": "2023-12-02T08:42:28.447738",
     "status": "completed"
    },
    "tags": []
   },
   "outputs": [],
   "source": [
    "# #checkpoint_filepath = './ckpt/checkpoint.weights.h5'\n",
    "# # include the epoch in the file name. (use `str.format`)\n",
    "# checkpoint_path = './training_2/cp-{epoch:04d}.ckpt'\n",
    "# checkpoint_dir = os.path.dirname(checkpoint_path)\n",
    "\n",
    "# model_checkpoint_callback = keras.callbacks.ModelCheckpoint(\n",
    "#     filepath=checkpoint_path,\n",
    "#     save_weights_only=True,\n",
    "#     monitor='val_accuracy',\n",
    "#     mode='max',\n",
    "#     save_best_only=True)"
   ]
  },
  {
   "cell_type": "code",
   "execution_count": 22,
   "id": "a9f40447",
   "metadata": {
    "execution": {
     "iopub.execute_input": "2023-12-02T08:42:28.504432Z",
     "iopub.status.busy": "2023-12-02T08:42:28.504153Z",
     "iopub.status.idle": "2023-12-02T08:42:28.508064Z",
     "shell.execute_reply": "2023-12-02T08:42:28.507345Z"
    },
    "id": "gCJve6koThdG",
    "papermill": {
     "duration": 0.023041,
     "end_time": "2023-12-02T08:42:28.509921",
     "exception": false,
     "start_time": "2023-12-02T08:42:28.486880",
     "status": "completed"
    },
    "tags": []
   },
   "outputs": [],
   "source": [
    "# model.save('/content/models')"
   ]
  },
  {
   "cell_type": "code",
   "execution_count": null,
   "id": "753f6b85",
   "metadata": {
    "id": "AlOprXNIeQKa",
    "papermill": {
     "duration": 0.017447,
     "end_time": "2023-12-02T08:42:28.543706",
     "exception": false,
     "start_time": "2023-12-02T08:42:28.526259",
     "status": "completed"
    },
    "tags": []
   },
   "outputs": [],
   "source": []
  },
  {
   "cell_type": "code",
   "execution_count": 23,
   "id": "0b1be7fe",
   "metadata": {
    "execution": {
     "iopub.execute_input": "2023-12-02T08:42:28.577873Z",
     "iopub.status.busy": "2023-12-02T08:42:28.577371Z",
     "iopub.status.idle": "2023-12-02T08:42:28.581138Z",
     "shell.execute_reply": "2023-12-02T08:42:28.580314Z"
    },
    "id": "cyJ1x3yaTFQu",
    "outputId": "f3c7225e-00a8-4c6d-9bb3-b43a2a76e8ab",
    "papermill": {
     "duration": 0.023055,
     "end_time": "2023-12-02T08:42:28.583004",
     "exception": false,
     "start_time": "2023-12-02T08:42:28.559949",
     "status": "completed"
    },
    "tags": []
   },
   "outputs": [],
   "source": [
    "# epochs = 10\n",
    "# hist = model.fit(train_generator, steps_per_epoch = 40,\n",
    "#                  epochs=epochs, validation_data=validation_generator, callbacks=[model_checkpoint_callback])"
   ]
  },
  {
   "cell_type": "code",
   "execution_count": null,
   "id": "cb102447",
   "metadata": {
    "execution": {
     "iopub.execute_input": "2023-12-01T19:17:30.810642Z",
     "iopub.status.busy": "2023-12-01T19:17:30.810269Z",
     "iopub.status.idle": "2023-12-01T19:19:13.862085Z",
     "shell.execute_reply": "2023-12-01T19:19:13.861175Z",
     "shell.execute_reply.started": "2023-12-01T19:17:30.810614Z"
    },
    "id": "gbLUi2RXVtWM",
    "papermill": {
     "duration": 0.016084,
     "end_time": "2023-12-02T08:42:28.615429",
     "exception": false,
     "start_time": "2023-12-02T08:42:28.599345",
     "status": "completed"
    },
    "tags": []
   },
   "outputs": [],
   "source": []
  },
  {
   "cell_type": "code",
   "execution_count": 24,
   "id": "2fb2c3c1",
   "metadata": {
    "execution": {
     "iopub.execute_input": "2023-12-02T08:42:28.649590Z",
     "iopub.status.busy": "2023-12-02T08:42:28.648938Z",
     "iopub.status.idle": "2023-12-02T08:44:50.320948Z",
     "shell.execute_reply": "2023-12-02T08:44:50.320111Z"
    },
    "id": "9sRoIdE6VtO5",
    "papermill": {
     "duration": 141.692006,
     "end_time": "2023-12-02T08:44:50.323705",
     "exception": false,
     "start_time": "2023-12-02T08:42:28.631699",
     "status": "completed"
    },
    "tags": []
   },
   "outputs": [],
   "source": [
    "model = tf.keras.models.load_model('/kaggle/input/model-keras2/my_model2.keras')"
   ]
  },
  {
   "cell_type": "code",
   "execution_count": 25,
   "id": "42c22341",
   "metadata": {
    "execution": {
     "iopub.execute_input": "2023-12-02T08:44:50.358687Z",
     "iopub.status.busy": "2023-12-02T08:44:50.358376Z",
     "iopub.status.idle": "2023-12-02T08:44:50.390381Z",
     "shell.execute_reply": "2023-12-02T08:44:50.389485Z"
    },
    "id": "0VojUXK9Il5d",
    "outputId": "99669670-6f34-41d7-b63b-73839f243315",
    "papermill": {
     "duration": 0.051655,
     "end_time": "2023-12-02T08:44:50.392437",
     "exception": false,
     "start_time": "2023-12-02T08:44:50.340782",
     "status": "completed"
    },
    "tags": []
   },
   "outputs": [],
   "source": [
    "def unfreeze_model(model):\n",
    "    # We unfreeze the top 5 layers while leaving BatchNorm layers frozen\n",
    "    for layer in model.layers[-20:]:\n",
    "        if not isinstance(layer, layers.BatchNormalization):\n",
    "            layer.trainable = True\n",
    "\n",
    "    optimizer = keras.optimizers.Adam(learning_rate=1e-5)\n",
    "    model.compile(\n",
    "        optimizer=optimizer, loss=\"categorical_crossentropy\", metrics=[\"accuracy\"]\n",
    "    )\n",
    "\n",
    "\n",
    "unfreeze_model(model)\n",
    "\n"
   ]
  },
  {
   "cell_type": "code",
   "execution_count": 26,
   "id": "412d83af",
   "metadata": {
    "execution": {
     "iopub.execute_input": "2023-12-02T08:44:50.426879Z",
     "iopub.status.busy": "2023-12-02T08:44:50.426555Z",
     "iopub.status.idle": "2023-12-02T12:04:39.706390Z",
     "shell.execute_reply": "2023-12-02T12:04:39.705444Z"
    },
    "papermill": {
     "duration": 11989.814565,
     "end_time": "2023-12-02T12:04:40.223584",
     "exception": false,
     "start_time": "2023-12-02T08:44:50.409019",
     "status": "completed"
    },
    "tags": []
   },
   "outputs": [
    {
     "name": "stdout",
     "output_type": "stream",
     "text": [
      "Epoch 1/30\n"
     ]
    },
    {
     "name": "stderr",
     "output_type": "stream",
     "text": [
      "2023-12-02 08:45:12.434258: E tensorflow/core/grappler/optimizers/meta_optimizer.cc:954] layout failed: INVALID_ARGUMENT: Size of values 0 does not match size of permutation 4 @ fanin shape inEfficientNet/block1b_drop/dropout/SelectV2-2-TransposeNHWCToNCHW-LayoutOptimizer\n"
     ]
    },
    {
     "name": "stdout",
     "output_type": "stream",
     "text": [
      "180/180 [==============================] - 436s 2s/step - loss: 3.3507 - accuracy: 0.8765 - val_loss: 2.8266 - val_accuracy: 0.8849\n",
      "Epoch 2/30\n",
      "180/180 [==============================] - 397s 2s/step - loss: 3.1237 - accuracy: 0.8755 - val_loss: 2.7107 - val_accuracy: 0.8883\n",
      "Epoch 3/30\n",
      "180/180 [==============================] - 397s 2s/step - loss: 3.1003 - accuracy: 0.8857 - val_loss: 2.5476 - val_accuracy: 0.8925\n",
      "Epoch 4/30\n",
      "180/180 [==============================] - 397s 2s/step - loss: 2.9816 - accuracy: 0.8857 - val_loss: 2.6170 - val_accuracy: 0.8911\n",
      "Epoch 5/30\n",
      "180/180 [==============================] - 397s 2s/step - loss: 3.0203 - accuracy: 0.8784 - val_loss: 2.4577 - val_accuracy: 0.8939\n",
      "Epoch 6/30\n",
      "180/180 [==============================] - 397s 2s/step - loss: 2.9504 - accuracy: 0.8835 - val_loss: 2.4306 - val_accuracy: 0.8988\n",
      "Epoch 7/30\n",
      "180/180 [==============================] - 397s 2s/step - loss: 2.6906 - accuracy: 0.8915 - val_loss: 2.2774 - val_accuracy: 0.9015\n",
      "Epoch 8/30\n",
      "180/180 [==============================] - 397s 2s/step - loss: 2.7377 - accuracy: 0.8889 - val_loss: 2.4325 - val_accuracy: 0.9001\n",
      "Epoch 9/30\n",
      "180/180 [==============================] - 397s 2s/step - loss: 2.6060 - accuracy: 0.8927 - val_loss: 2.2370 - val_accuracy: 0.9057\n",
      "Epoch 10/30\n",
      "180/180 [==============================] - 397s 2s/step - loss: 2.6558 - accuracy: 0.8932 - val_loss: 2.1356 - val_accuracy: 0.9098\n",
      "Epoch 11/30\n",
      "180/180 [==============================] - 397s 2s/step - loss: 2.4478 - accuracy: 0.8974 - val_loss: 2.0232 - val_accuracy: 0.9154\n",
      "Epoch 12/30\n",
      "180/180 [==============================] - 397s 2s/step - loss: 2.2885 - accuracy: 0.9027 - val_loss: 1.9952 - val_accuracy: 0.9119\n",
      "Epoch 13/30\n",
      "180/180 [==============================] - 397s 2s/step - loss: 2.3208 - accuracy: 0.8965 - val_loss: 2.0344 - val_accuracy: 0.9140\n",
      "Epoch 14/30\n",
      "180/180 [==============================] - 397s 2s/step - loss: 2.4680 - accuracy: 0.9036 - val_loss: 2.1185 - val_accuracy: 0.9092\n",
      "Epoch 15/30\n",
      "180/180 [==============================] - 397s 2s/step - loss: 2.2020 - accuracy: 0.9048 - val_loss: 1.9834 - val_accuracy: 0.9133\n",
      "Epoch 16/30\n",
      "180/180 [==============================] - 397s 2s/step - loss: 2.2259 - accuracy: 0.9055 - val_loss: 1.8251 - val_accuracy: 0.9265\n",
      "Epoch 17/30\n",
      "180/180 [==============================] - 397s 2s/step - loss: 2.1898 - accuracy: 0.9008 - val_loss: 1.9316 - val_accuracy: 0.9147\n",
      "Epoch 18/30\n",
      "180/180 [==============================] - 397s 2s/step - loss: 2.0650 - accuracy: 0.9132 - val_loss: 1.8468 - val_accuracy: 0.9230\n",
      "Epoch 19/30\n",
      "180/180 [==============================] - 397s 2s/step - loss: 1.9771 - accuracy: 0.9133 - val_loss: 1.7727 - val_accuracy: 0.9244\n",
      "Epoch 20/30\n",
      "180/180 [==============================] - 397s 2s/step - loss: 1.9833 - accuracy: 0.9151 - val_loss: 1.7082 - val_accuracy: 0.9286\n",
      "Epoch 21/30\n",
      "180/180 [==============================] - 397s 2s/step - loss: 2.0238 - accuracy: 0.9133 - val_loss: 1.7264 - val_accuracy: 0.9265\n",
      "Epoch 22/30\n",
      "180/180 [==============================] - 397s 2s/step - loss: 1.8485 - accuracy: 0.9180 - val_loss: 1.6729 - val_accuracy: 0.9272\n",
      "Epoch 23/30\n",
      "180/180 [==============================] - 397s 2s/step - loss: 1.8476 - accuracy: 0.9177 - val_loss: 1.7373 - val_accuracy: 0.9279\n",
      "Epoch 24/30\n",
      "180/180 [==============================] - 397s 2s/step - loss: 1.8372 - accuracy: 0.9208 - val_loss: 1.6502 - val_accuracy: 0.9320\n",
      "Epoch 25/30\n",
      "180/180 [==============================] - 397s 2s/step - loss: 1.6635 - accuracy: 0.9234 - val_loss: 1.6646 - val_accuracy: 0.9341\n",
      "Epoch 26/30\n",
      "180/180 [==============================] - 397s 2s/step - loss: 1.7516 - accuracy: 0.9208 - val_loss: 1.6617 - val_accuracy: 0.9369\n",
      "Epoch 27/30\n",
      "180/180 [==============================] - 397s 2s/step - loss: 1.4469 - accuracy: 0.9302 - val_loss: 1.7714 - val_accuracy: 0.9286\n",
      "Epoch 28/30\n",
      "180/180 [==============================] - 397s 2s/step - loss: 1.5867 - accuracy: 0.9281 - val_loss: 1.4731 - val_accuracy: 0.9390\n",
      "Epoch 29/30\n",
      "180/180 [==============================] - 397s 2s/step - loss: 1.7059 - accuracy: 0.9283 - val_loss: 1.5476 - val_accuracy: 0.9307\n",
      "Epoch 30/30\n",
      "180/180 [==============================] - 397s 2s/step - loss: 1.5972 - accuracy: 0.9302 - val_loss: 1.5736 - val_accuracy: 0.9355\n"
     ]
    }
   ],
   "source": [
    "epochs = 30\n",
    "#hist = model.fit(train_generator, epochs=epochs, validation_data=validation_generator,callbacks=[model_checkpoint_callback])\n",
    "hist = model.fit(train_generator, epochs=epochs, validation_data=validation_generator)#,callbacks=[model_checkpoint_callback])\n"
   ]
  },
  {
   "cell_type": "code",
   "execution_count": 27,
   "id": "9efaf0b9",
   "metadata": {
    "execution": {
     "iopub.execute_input": "2023-12-02T12:04:41.117704Z",
     "iopub.status.busy": "2023-12-02T12:04:41.116971Z",
     "iopub.status.idle": "2023-12-02T12:04:44.452622Z",
     "shell.execute_reply": "2023-12-02T12:04:44.451562Z"
    },
    "papermill": {
     "duration": 3.785242,
     "end_time": "2023-12-02T12:04:44.455003",
     "exception": false,
     "start_time": "2023-12-02T12:04:40.669761",
     "status": "completed"
    },
    "tags": []
   },
   "outputs": [],
   "source": [
    "model.save('my_model4.keras')"
   ]
  },
  {
   "cell_type": "code",
   "execution_count": 28,
   "id": "f141bd3a",
   "metadata": {
    "execution": {
     "iopub.execute_input": "2023-12-02T12:04:45.375551Z",
     "iopub.status.busy": "2023-12-02T12:04:45.375118Z",
     "iopub.status.idle": "2023-12-02T12:04:45.380360Z",
     "shell.execute_reply": "2023-12-02T12:04:45.379131Z"
    },
    "id": "RrO6OC9XIl2U",
    "outputId": "04ee5cba-937d-4dcb-ee85-04f613fee190",
    "papermill": {
     "duration": 0.480405,
     "end_time": "2023-12-02T12:04:45.382767",
     "exception": false,
     "start_time": "2023-12-02T12:04:44.902362",
     "status": "completed"
    },
    "tags": []
   },
   "outputs": [],
   "source": [
    "\n",
    "# def plot_hist(hist):\n",
    "#     plt.plot(hist.history[\"accuracy\"])\n",
    "#     plt.plot(hist.history[\"val_accuracy\"])\n",
    "#     plt.title(\"model accuracy\")\n",
    "#     plt.ylabel(\"accuracy\")\n",
    "#     plt.xlabel(\"epoch\")\n",
    "#     plt.legend([\"train\", \"validation\"], loc=\"upper left\")\n",
    "#     plt.show()\n",
    "# plot_hist(hist)"
   ]
  },
  {
   "cell_type": "code",
   "execution_count": 29,
   "id": "0d9dc4f8",
   "metadata": {
    "execution": {
     "iopub.execute_input": "2023-12-02T12:04:46.418882Z",
     "iopub.status.busy": "2023-12-02T12:04:46.418141Z",
     "iopub.status.idle": "2023-12-02T12:04:46.422373Z",
     "shell.execute_reply": "2023-12-02T12:04:46.421465Z"
    },
    "id": "w59jLvs7Ilzo",
    "papermill": {
     "duration": 0.545972,
     "end_time": "2023-12-02T12:04:46.424220",
     "exception": false,
     "start_time": "2023-12-02T12:04:45.878248",
     "status": "completed"
    },
    "tags": []
   },
   "outputs": [],
   "source": [
    "# Model weights are saved at the end of every epoch, if it's the best seen\n",
    "# so far.\n",
    "#model.fit(epochs=EPOCHS, callbacks=[model_checkpoint_callback])\n",
    "\n",
    "# The model weights (that are considered the best) can be loaded as -\n",
    "#model.load_weights(checkpoint_filepath)"
   ]
  },
  {
   "cell_type": "code",
   "execution_count": 30,
   "id": "e819fa7c",
   "metadata": {
    "execution": {
     "iopub.execute_input": "2023-12-02T12:04:47.330135Z",
     "iopub.status.busy": "2023-12-02T12:04:47.328920Z",
     "iopub.status.idle": "2023-12-02T12:04:53.156191Z",
     "shell.execute_reply": "2023-12-02T12:04:53.155411Z"
    },
    "id": "DGpOIhMhIlxm",
    "papermill": {
     "duration": 6.289474,
     "end_time": "2023-12-02T12:04:53.158338",
     "exception": false,
     "start_time": "2023-12-02T12:04:46.868864",
     "status": "completed"
    },
    "tags": []
   },
   "outputs": [
    {
     "name": "stdout",
     "output_type": "stream",
     "text": [
      "Found 4800 images belonging to 1 classes.\n"
     ]
    }
   ],
   "source": [
    "if colab:\n",
    "    test_dir = '/content/drive/MyDrive/hackathon/test'\n",
    "elif kaggle:\n",
    "    test_dir = \"/kaggle/input/dataset/test/\"\n",
    "else:\n",
    "    test_dir = './test/'\n",
    "test_datagen = ImageDataGenerator()\n",
    "\n",
    "test_generator = test_datagen.flow_from_directory( test_dir, batch_size = 20, class_mode = None, target_size = (IMG_SIZE, IMG_SIZE),shuffle= False)\n",
    "\n",
    "test_generator.reset()\n"
   ]
  },
  {
   "cell_type": "code",
   "execution_count": 31,
   "id": "3b14c212",
   "metadata": {
    "execution": {
     "iopub.execute_input": "2023-12-02T12:04:54.049661Z",
     "iopub.status.busy": "2023-12-02T12:04:54.048914Z",
     "iopub.status.idle": "2023-12-02T12:08:55.750883Z",
     "shell.execute_reply": "2023-12-02T12:08:55.749965Z"
    },
    "id": "mv7PvR_GIlu0",
    "papermill": {
     "duration": 242.152647,
     "end_time": "2023-12-02T12:08:55.753299",
     "exception": false,
     "start_time": "2023-12-02T12:04:53.600652",
     "status": "completed"
    },
    "tags": []
   },
   "outputs": [
    {
     "name": "stdout",
     "output_type": "stream",
     "text": [
      "240/240 [==============================] - 241s 971ms/step\n"
     ]
    }
   ],
   "source": [
    "predictions = model.predict(test_generator)\n",
    "\n",
    "predicted_class_indices=np.argmax(predictions,axis=1)\n",
    "labels_map = (train_generator.class_indices)\n",
    "labels_map = dict((v,k) for k,v in labels_map.items())\n",
    "predictions = [labels_map[i] for i in predicted_class_indices]"
   ]
  },
  {
   "cell_type": "code",
   "execution_count": 32,
   "id": "15eecfd5",
   "metadata": {
    "execution": {
     "iopub.execute_input": "2023-12-02T12:08:56.678903Z",
     "iopub.status.busy": "2023-12-02T12:08:56.678536Z",
     "iopub.status.idle": "2023-12-02T12:08:56.697561Z",
     "shell.execute_reply": "2023-12-02T12:08:56.696834Z"
    },
    "id": "InHFmtviIlsR",
    "papermill": {
     "duration": 0.484262,
     "end_time": "2023-12-02T12:08:56.699406",
     "exception": false,
     "start_time": "2023-12-02T12:08:56.215144",
     "status": "completed"
    },
    "tags": []
   },
   "outputs": [],
   "source": [
    "# Preparing submitssion file\n",
    "\n",
    "filenames=test_generator.filenames\n",
    "filenames = [f[7:-4] for f in filenames]\n",
    "results=pd.DataFrame({\"image_id\":filenames,\n",
    "                      \"label\":predictions})\n",
    "results.to_csv(\"sub.csv\",index=False)"
   ]
  },
  {
   "cell_type": "code",
   "execution_count": 33,
   "id": "4eb76cb2",
   "metadata": {
    "execution": {
     "iopub.execute_input": "2023-12-02T12:08:57.725903Z",
     "iopub.status.busy": "2023-12-02T12:08:57.725531Z",
     "iopub.status.idle": "2023-12-02T12:08:57.729737Z",
     "shell.execute_reply": "2023-12-02T12:08:57.728870Z"
    },
    "id": "PMBamtL7Ilpf",
    "papermill": {
     "duration": 0.565974,
     "end_time": "2023-12-02T12:08:57.731735",
     "exception": false,
     "start_time": "2023-12-02T12:08:57.165761",
     "status": "completed"
    },
    "tags": []
   },
   "outputs": [],
   "source": [
    "#len(filenames)"
   ]
  },
  {
   "cell_type": "code",
   "execution_count": 34,
   "id": "35c1861b",
   "metadata": {
    "execution": {
     "iopub.execute_input": "2023-12-02T12:08:58.658645Z",
     "iopub.status.busy": "2023-12-02T12:08:58.658303Z",
     "iopub.status.idle": "2023-12-02T12:08:58.662337Z",
     "shell.execute_reply": "2023-12-02T12:08:58.661471Z"
    },
    "id": "fsk1cAesIlmx",
    "papermill": {
     "duration": 0.471244,
     "end_time": "2023-12-02T12:08:58.664275",
     "exception": false,
     "start_time": "2023-12-02T12:08:58.193031",
     "status": "completed"
    },
    "tags": []
   },
   "outputs": [],
   "source": [
    "#set(predictions)"
   ]
  },
  {
   "cell_type": "code",
   "execution_count": 35,
   "id": "a94996e3",
   "metadata": {
    "execution": {
     "iopub.execute_input": "2023-12-02T12:08:59.590381Z",
     "iopub.status.busy": "2023-12-02T12:08:59.590036Z",
     "iopub.status.idle": "2023-12-02T12:08:59.596770Z",
     "shell.execute_reply": "2023-12-02T12:08:59.595894Z"
    },
    "id": "Jlltx_nHIlkW",
    "papermill": {
     "duration": 0.470385,
     "end_time": "2023-12-02T12:08:59.598615",
     "exception": false,
     "start_time": "2023-12-02T12:08:59.128230",
     "status": "completed"
    },
    "tags": []
   },
   "outputs": [],
   "source": [
    "# from sklearn.metrics import f1_score\n",
    "# import numpy as np\n",
    "# import keras\n",
    "\n",
    "# class DataCallback(keras.callbacks.Callback):  # diff\n",
    "#     \"\"\"Callback to operate on batch data from metric.\"\"\"\n",
    "\n",
    "#     def __init__(self):\n",
    "#         \"\"\"Offer a metric to access batch data.\"\"\"\n",
    "#         super().__init__()\n",
    "\n",
    "#         self.y_true = None\n",
    "#         self.y_pred = None\n",
    "#         #self.metric = tf.keras.metrics.F1Score(threshold=0.5)\n",
    "\n",
    "\n",
    "#     def set_model(self, model):\n",
    "#         \"\"\"Initialize variables when model is set.\"\"\"\n",
    "#         self.y_true = tf_nan(model.output.dtype)\n",
    "#         self.y_pred = tf_nan(model.output.dtype)\n",
    "\n",
    "#     def metric(self, y_true, y_pred):\n",
    "\n",
    "#         print(y_true,y_pred)\n",
    "#         \"\"\"Fake metric.\"\"\"\n",
    "#         if self.y_true is None:\n",
    "#             self.y_true.assign(y_true)\n",
    "#             self.y_pred.assign(y_pred)\n",
    "#         else:\n",
    "#             self.y_true = tf.concat([self.y_true,y_true],axis=0)\n",
    "#             self.y_pred = tf.concat([self.y_pred,y_pred],axis=0)\n",
    "\n",
    "# #         def create_one_hot_array(y_pred):\n",
    "# #         # Get the indices of the maximum values along each row\n",
    "# #           max_indices = np.argmax(y_pred, axis=1)\n",
    "          \n",
    "# #           # Create a new array with zeros\n",
    "# #           one_hot_array = np.zeros_like(y_pred)\n",
    "          \n",
    "# #           # Set 1 at the maximum value indices\n",
    "# #           one_hot_array[np.arange(len(y_pred)), max_indices] = 1\n",
    "        \n",
    "# #           return one_hot_array\n",
    "\n",
    "# #              #   _logs ['f1_Score'] = metric\n",
    "# #         # print(\"y_true =\", y_true.numpy().shape)\n",
    "# #         # print(\"y_pred =\", y_pred.numpy().shape)\n",
    "        \n",
    "# #         score = f1_score(y_true.numpy(),create_one_hot_array(y_pred.numpy()),average='macro')\n",
    "# #         #metric.update_state(y_true.nump\n",
    "# #        return score\n",
    "#          return 1\n",
    "\n",
    "#     def on_epoch_end(self, _batch, logs=None):\n",
    "#         def create_one_hot_array(y_pred):\n",
    "#         # Get the indices of the maximum values along each row\n",
    "#             max_indices = np.argmax(y_pred, axis=1)\n",
    "#             one_hot_array = np.zeros_like(y_pred)\n",
    "#             one_hot_array[np.arange(len(y_pred)), max_indices] = 1\n",
    "#             return one_hot_array\n",
    "\n",
    "#         score = f1_score(self.y_true.numpy(),create_one_hot_array(self.y_pred.numpy()),average='macro')\n",
    "\n",
    "#         print('f1_score')\n",
    "#         del self.y_true, self.y_pred\n",
    "\n",
    "\n",
    "\n",
    "#     # def on_epoch_end(self, _logs=None):\n",
    "#     #     \"\"\"Clean up.\"\"\"\n",
    "#     #     del self.y_true, self.y_pred\n",
    "\n",
    "# def tf_nan(dtype):\n",
    "#   \"\"\"Create NaN variable of proper dtype and variable shape for assign().\"\"\"\n",
    "#   return tf.Variable(float(\"nan\"), dtype=dtype, shape=tf.TensorShape(None))\n",
    "# f1_callback = DataCallback()"
   ]
  },
  {
   "cell_type": "code",
   "execution_count": null,
   "id": "b153d4ab",
   "metadata": {
    "id": "2SQ5swnfIljF",
    "papermill": {
     "duration": 0.462235,
     "end_time": "2023-12-02T12:09:00.525329",
     "exception": false,
     "start_time": "2023-12-02T12:09:00.063094",
     "status": "completed"
    },
    "tags": []
   },
   "outputs": [],
   "source": []
  },
  {
   "cell_type": "code",
   "execution_count": null,
   "id": "178aabf5",
   "metadata": {
    "id": "LW-CQKppIlhl",
    "papermill": {
     "duration": 0.535821,
     "end_time": "2023-12-02T12:09:01.524126",
     "exception": false,
     "start_time": "2023-12-02T12:09:00.988305",
     "status": "completed"
    },
    "tags": []
   },
   "outputs": [],
   "source": []
  },
  {
   "cell_type": "code",
   "execution_count": null,
   "id": "305a8637",
   "metadata": {
    "id": "ZblfgwdqIldW",
    "papermill": {
     "duration": 0.461928,
     "end_time": "2023-12-02T12:09:02.468351",
     "exception": false,
     "start_time": "2023-12-02T12:09:02.006423",
     "status": "completed"
    },
    "tags": []
   },
   "outputs": [],
   "source": []
  },
  {
   "cell_type": "code",
   "execution_count": null,
   "id": "c33b23a1",
   "metadata": {
    "id": "qxSO0BcsIlZt",
    "papermill": {
     "duration": 0.45979,
     "end_time": "2023-12-02T12:09:03.390264",
     "exception": false,
     "start_time": "2023-12-02T12:09:02.930474",
     "status": "completed"
    },
    "tags": []
   },
   "outputs": [],
   "source": []
  },
  {
   "cell_type": "code",
   "execution_count": null,
   "id": "887118e0",
   "metadata": {
    "id": "fX_cKTzvIlXW",
    "papermill": {
     "duration": 0.461748,
     "end_time": "2023-12-02T12:09:04.317060",
     "exception": false,
     "start_time": "2023-12-02T12:09:03.855312",
     "status": "completed"
    },
    "tags": []
   },
   "outputs": [],
   "source": []
  },
  {
   "cell_type": "code",
   "execution_count": null,
   "id": "2cb3a13f",
   "metadata": {
    "id": "DHyIrWfzIlUy",
    "papermill": {
     "duration": 0.467709,
     "end_time": "2023-12-02T12:09:05.330407",
     "exception": false,
     "start_time": "2023-12-02T12:09:04.862698",
     "status": "completed"
    },
    "tags": []
   },
   "outputs": [],
   "source": []
  },
  {
   "cell_type": "code",
   "execution_count": null,
   "id": "8d010569",
   "metadata": {
    "id": "x741A_G2IlSd",
    "papermill": {
     "duration": 0.46805,
     "end_time": "2023-12-02T12:09:06.265960",
     "exception": false,
     "start_time": "2023-12-02T12:09:05.797910",
     "status": "completed"
    },
    "tags": []
   },
   "outputs": [],
   "source": []
  },
  {
   "cell_type": "code",
   "execution_count": null,
   "id": "f8edff28",
   "metadata": {
    "id": "LM_FjKc7IlPZ",
    "papermill": {
     "duration": 0.493107,
     "end_time": "2023-12-02T12:09:07.229010",
     "exception": false,
     "start_time": "2023-12-02T12:09:06.735903",
     "status": "completed"
    },
    "tags": []
   },
   "outputs": [],
   "source": []
  },
  {
   "cell_type": "code",
   "execution_count": null,
   "id": "8d113f60",
   "metadata": {
    "id": "S9_FjXi0IlNM",
    "papermill": {
     "duration": 0.538042,
     "end_time": "2023-12-02T12:09:08.249275",
     "exception": false,
     "start_time": "2023-12-02T12:09:07.711233",
     "status": "completed"
    },
    "tags": []
   },
   "outputs": [],
   "source": []
  },
  {
   "cell_type": "code",
   "execution_count": null,
   "id": "976a57a2",
   "metadata": {
    "id": "tTGVZDOuoYls",
    "papermill": {
     "duration": 0.467289,
     "end_time": "2023-12-02T12:09:09.183154",
     "exception": false,
     "start_time": "2023-12-02T12:09:08.715865",
     "status": "completed"
    },
    "tags": []
   },
   "outputs": [],
   "source": []
  },
  {
   "cell_type": "code",
   "execution_count": null,
   "id": "8026c6d2",
   "metadata": {
    "id": "YbU4ue2LoYiJ",
    "papermill": {
     "duration": 0.467167,
     "end_time": "2023-12-02T12:09:10.116990",
     "exception": false,
     "start_time": "2023-12-02T12:09:09.649823",
     "status": "completed"
    },
    "tags": []
   },
   "outputs": [],
   "source": []
  },
  {
   "cell_type": "code",
   "execution_count": null,
   "id": "c3773308",
   "metadata": {
    "id": "8A3rVbjPoYfS",
    "papermill": {
     "duration": 0.467779,
     "end_time": "2023-12-02T12:09:11.050610",
     "exception": false,
     "start_time": "2023-12-02T12:09:10.582831",
     "status": "completed"
    },
    "tags": []
   },
   "outputs": [],
   "source": []
  },
  {
   "cell_type": "code",
   "execution_count": null,
   "id": "a898f868",
   "metadata": {
    "id": "TbIr0fhSIOg3",
    "papermill": {
     "duration": 0.469424,
     "end_time": "2023-12-02T12:09:12.060271",
     "exception": false,
     "start_time": "2023-12-02T12:09:11.590847",
     "status": "completed"
    },
    "tags": []
   },
   "outputs": [],
   "source": []
  },
  {
   "cell_type": "code",
   "execution_count": null,
   "id": "137eb23d",
   "metadata": {
    "id": "7WBkfb35IOd2",
    "papermill": {
     "duration": 0.467104,
     "end_time": "2023-12-02T12:09:12.991089",
     "exception": false,
     "start_time": "2023-12-02T12:09:12.523985",
     "status": "completed"
    },
    "tags": []
   },
   "outputs": [],
   "source": []
  },
  {
   "cell_type": "code",
   "execution_count": null,
   "id": "70143964",
   "metadata": {
    "id": "6CG3XWPlIObe",
    "papermill": {
     "duration": 0.467193,
     "end_time": "2023-12-02T12:09:13.924494",
     "exception": false,
     "start_time": "2023-12-02T12:09:13.457301",
     "status": "completed"
    },
    "tags": []
   },
   "outputs": [],
   "source": []
  },
  {
   "cell_type": "code",
   "execution_count": null,
   "id": "7cae082e",
   "metadata": {
    "id": "FJAFQCkWIOZG",
    "papermill": {
     "duration": 0.538091,
     "end_time": "2023-12-02T12:09:14.927048",
     "exception": false,
     "start_time": "2023-12-02T12:09:14.388957",
     "status": "completed"
    },
    "tags": []
   },
   "outputs": [],
   "source": []
  },
  {
   "cell_type": "code",
   "execution_count": null,
   "id": "5d5e4206",
   "metadata": {
    "id": "2VDrAzaIIOWS",
    "papermill": {
     "duration": 0.467578,
     "end_time": "2023-12-02T12:09:15.852785",
     "exception": false,
     "start_time": "2023-12-02T12:09:15.385207",
     "status": "completed"
    },
    "tags": []
   },
   "outputs": [],
   "source": []
  },
  {
   "cell_type": "code",
   "execution_count": null,
   "id": "c5674c8a",
   "metadata": {
    "id": "nBLGC1DIIOTD",
    "papermill": {
     "duration": 0.47234,
     "end_time": "2023-12-02T12:09:16.827323",
     "exception": false,
     "start_time": "2023-12-02T12:09:16.354983",
     "status": "completed"
    },
    "tags": []
   },
   "outputs": [],
   "source": []
  },
  {
   "cell_type": "markdown",
   "id": "4543d960",
   "metadata": {
    "id": "M1OnTqUGIO4o",
    "papermill": {
     "duration": 0.464656,
     "end_time": "2023-12-02T12:09:17.807844",
     "exception": false,
     "start_time": "2023-12-02T12:09:17.343188",
     "status": "completed"
    },
    "tags": []
   },
   "source": [
    "## SUBMITING OUR PREDICTIONS"
   ]
  },
  {
   "cell_type": "code",
   "execution_count": null,
   "id": "50266b87",
   "metadata": {
    "id": "3ajCZpSe7AZZ",
    "papermill": {
     "duration": 0.461723,
     "end_time": "2023-12-02T12:09:18.809775",
     "exception": false,
     "start_time": "2023-12-02T12:09:18.348052",
     "status": "completed"
    },
    "tags": []
   },
   "outputs": [],
   "source": []
  },
  {
   "cell_type": "code",
   "execution_count": null,
   "id": "fdd30b51",
   "metadata": {
    "id": "B6oOyg-ZnBFo",
    "papermill": {
     "duration": 0.460358,
     "end_time": "2023-12-02T12:09:19.732838",
     "exception": false,
     "start_time": "2023-12-02T12:09:19.272480",
     "status": "completed"
    },
    "tags": []
   },
   "outputs": [],
   "source": []
  }
 ],
 "metadata": {
  "accelerator": "TPU",
  "colab": {
   "provenance": []
  },
  "kaggle": {
   "accelerator": "gpu",
   "dataSources": [
    {
     "datasetId": 4092945,
     "sourceId": 7100369,
     "sourceType": "datasetVersion"
    },
    {
     "datasetId": 4094736,
     "sourceId": 7103153,
     "sourceType": "datasetVersion"
    }
   ],
   "isGpuEnabled": true,
   "isInternetEnabled": true,
   "language": "python",
   "sourceType": "notebook"
  },
  "kernelspec": {
   "display_name": "Python 3",
   "language": "python",
   "name": "python3"
  },
  "language_info": {
   "codemirror_mode": {
    "name": "ipython",
    "version": 3
   },
   "file_extension": ".py",
   "mimetype": "text/x-python",
   "name": "python",
   "nbconvert_exporter": "python",
   "pygments_lexer": "ipython3",
   "version": "3.10.12"
  },
  "papermill": {
   "default_parameters": {},
   "duration": 12523.168382,
   "end_time": "2023-12-02T12:09:23.177027",
   "environment_variables": {},
   "exception": null,
   "input_path": "__notebook__.ipynb",
   "output_path": "__notebook__.ipynb",
   "parameters": {},
   "start_time": "2023-12-02T08:40:40.008645",
   "version": "2.4.0"
  }
 },
 "nbformat": 4,
 "nbformat_minor": 5
}
