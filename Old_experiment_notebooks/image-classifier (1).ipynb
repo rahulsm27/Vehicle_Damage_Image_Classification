{
 "cells": [
  {
   "cell_type": "code",
   "execution_count": 1,
   "id": "4acdda25",
   "metadata": {
    "execution": {
     "iopub.execute_input": "2023-12-01T21:49:50.104394Z",
     "iopub.status.busy": "2023-12-01T21:49:50.103966Z",
     "iopub.status.idle": "2023-12-01T21:50:28.399469Z",
     "shell.execute_reply": "2023-12-01T21:50:28.398402Z"
    },
    "id": "4yRL3JNr7AZE",
    "outputId": "9acc0b84-982b-4955-b4b3-8c65195450f4",
    "papermill": {
     "duration": 38.315375,
     "end_time": "2023-12-01T21:50:28.402040",
     "exception": false,
     "start_time": "2023-12-01T21:49:50.086665",
     "status": "completed"
    },
    "tags": []
   },
   "outputs": [
    {
     "name": "stdout",
     "output_type": "stream",
     "text": [
      "Collecting split-folders\r\n",
      "  Downloading split_folders-0.5.1-py3-none-any.whl (8.4 kB)\r\n",
      "Installing collected packages: split-folders\r\n",
      "Successfully installed split-folders-0.5.1\r\n",
      "Collecting keras-efficientnet\r\n",
      "  Downloading keras_efficientnet-0.1.4-py3-none-any.whl (17 kB)\r\n",
      "Installing collected packages: keras-efficientnet\r\n",
      "Successfully installed keras-efficientnet-0.1.4\r\n",
      "Collecting efficientnet\r\n",
      "  Downloading efficientnet-1.1.1-py3-none-any.whl (18 kB)\r\n",
      "Collecting keras-applications<=1.0.8,>=1.0.7 (from efficientnet)\r\n",
      "  Downloading Keras_Applications-1.0.8-py3-none-any.whl (50 kB)\r\n",
      "\u001b[2K     \u001b[90m━━━━━━━━━━━━━━━━━━━━━━━━━━━━━━━━━━━━━━━━\u001b[0m \u001b[32m50.7/50.7 kB\u001b[0m \u001b[31m2.6 MB/s\u001b[0m eta \u001b[36m0:00:00\u001b[0m\r\n",
      "\u001b[?25hRequirement already satisfied: scikit-image in /opt/conda/lib/python3.10/site-packages (from efficientnet) (0.21.0)\r\n",
      "Requirement already satisfied: numpy>=1.9.1 in /opt/conda/lib/python3.10/site-packages (from keras-applications<=1.0.8,>=1.0.7->efficientnet) (1.24.3)\r\n",
      "Requirement already satisfied: h5py in /opt/conda/lib/python3.10/site-packages (from keras-applications<=1.0.8,>=1.0.7->efficientnet) (3.9.0)\r\n",
      "Requirement already satisfied: scipy>=1.8 in /opt/conda/lib/python3.10/site-packages (from scikit-image->efficientnet) (1.11.3)\r\n",
      "Requirement already satisfied: networkx>=2.8 in /opt/conda/lib/python3.10/site-packages (from scikit-image->efficientnet) (3.1)\r\n",
      "Requirement already satisfied: pillow>=9.0.1 in /opt/conda/lib/python3.10/site-packages (from scikit-image->efficientnet) (10.1.0)\r\n",
      "Requirement already satisfied: imageio>=2.27 in /opt/conda/lib/python3.10/site-packages (from scikit-image->efficientnet) (2.31.1)\r\n",
      "Requirement already satisfied: tifffile>=2022.8.12 in /opt/conda/lib/python3.10/site-packages (from scikit-image->efficientnet) (2023.8.12)\r\n",
      "Requirement already satisfied: PyWavelets>=1.1.1 in /opt/conda/lib/python3.10/site-packages (from scikit-image->efficientnet) (1.4.1)\r\n",
      "Requirement already satisfied: packaging>=21 in /opt/conda/lib/python3.10/site-packages (from scikit-image->efficientnet) (21.3)\r\n",
      "Requirement already satisfied: lazy_loader>=0.2 in /opt/conda/lib/python3.10/site-packages (from scikit-image->efficientnet) (0.3)\r\n",
      "Requirement already satisfied: pyparsing!=3.0.5,>=2.0.2 in /opt/conda/lib/python3.10/site-packages (from packaging>=21->scikit-image->efficientnet) (3.0.9)\r\n",
      "Installing collected packages: keras-applications, efficientnet\r\n",
      "Successfully installed efficientnet-1.1.1 keras-applications-1.0.8\r\n"
     ]
    }
   ],
   "source": [
    "#Installing libraries\n",
    "!pip3 install split-folders\n",
    "!pip3 install keras-efficientnet\n",
    "!pip3 install -U efficientnet\n",
    "#!pip3 install --upgrade tensorflow"
   ]
  },
  {
   "cell_type": "code",
   "execution_count": 2,
   "id": "c531e8d5",
   "metadata": {
    "execution": {
     "iopub.execute_input": "2023-12-01T21:50:28.435514Z",
     "iopub.status.busy": "2023-12-01T21:50:28.435186Z",
     "iopub.status.idle": "2023-12-01T21:50:29.346884Z",
     "shell.execute_reply": "2023-12-01T21:50:29.345835Z"
    },
    "id": "oOML4Zt17AZJ",
    "papermill": {
     "duration": 0.930645,
     "end_time": "2023-12-01T21:50:29.349296",
     "exception": false,
     "start_time": "2023-12-01T21:50:28.418651",
     "status": "completed"
    },
    "tags": []
   },
   "outputs": [],
   "source": [
    "# Importing libraries\n",
    "import pandas as pd\n",
    "import numpy as np\n",
    "\n",
    "import os\n",
    "import shutil\n",
    "\n",
    "import cv2\n",
    "from PIL import Image\n",
    "\n",
    "import matplotlib.pyplot as plt\n",
    "%matplotlib inline\n",
    "from IPython.display import display\n",
    "\n",
    "colab = False\n",
    "kaggle = True"
   ]
  },
  {
   "cell_type": "code",
   "execution_count": 3,
   "id": "051feae7",
   "metadata": {
    "execution": {
     "iopub.execute_input": "2023-12-01T21:50:29.382229Z",
     "iopub.status.busy": "2023-12-01T21:50:29.381775Z",
     "iopub.status.idle": "2023-12-01T21:50:29.385643Z",
     "shell.execute_reply": "2023-12-01T21:50:29.384933Z"
    },
    "papermill": {
     "duration": 0.022077,
     "end_time": "2023-12-01T21:50:29.387616",
     "exception": false,
     "start_time": "2023-12-01T21:50:29.365539",
     "status": "completed"
    },
    "tags": []
   },
   "outputs": [],
   "source": [
    "# import shutil\n",
    "\n",
    "# shutil.rmtree('/kaggle/working/dataset_final')\n",
    "\n",
    "# shutil.rmtree('/kaggle/working/dataset')"
   ]
  },
  {
   "cell_type": "code",
   "execution_count": 4,
   "id": "708e172a",
   "metadata": {
    "execution": {
     "iopub.execute_input": "2023-12-01T21:50:29.420464Z",
     "iopub.status.busy": "2023-12-01T21:50:29.420181Z",
     "iopub.status.idle": "2023-12-01T21:50:29.424504Z",
     "shell.execute_reply": "2023-12-01T21:50:29.423654Z"
    },
    "id": "BCmfI72h7EXL",
    "outputId": "71e55f13-554b-4dcf-ba4c-688dc86578f5",
    "papermill": {
     "duration": 0.023274,
     "end_time": "2023-12-01T21:50:29.426530",
     "exception": false,
     "start_time": "2023-12-01T21:50:29.403256",
     "status": "completed"
    },
    "tags": []
   },
   "outputs": [],
   "source": [
    "if colab :\n",
    "  from google.colab import drive\n",
    "\n",
    "  # Mount Google Drive\n",
    "  drive.mount('/content/drive')\n"
   ]
  },
  {
   "cell_type": "code",
   "execution_count": 5,
   "id": "57c426bf",
   "metadata": {
    "execution": {
     "iopub.execute_input": "2023-12-01T21:50:29.459254Z",
     "iopub.status.busy": "2023-12-01T21:50:29.458984Z",
     "iopub.status.idle": "2023-12-01T21:50:29.502959Z",
     "shell.execute_reply": "2023-12-01T21:50:29.502054Z"
    },
    "id": "UJGAanLD7AZK",
    "papermill": {
     "duration": 0.062541,
     "end_time": "2023-12-01T21:50:29.505016",
     "exception": false,
     "start_time": "2023-12-01T21:50:29.442475",
     "status": "completed"
    },
    "tags": []
   },
   "outputs": [],
   "source": [
    "if colab:\n",
    "    train_csv = pd.read_csv(\"/content/drive/MyDrive/hackathon/train/train.csv\")\n",
    "    test_csv =  pd.read_csv(\"/content/drive/MyDrive/hackathon/test/test.csv\")\n",
    "elif kaggle:\n",
    "    train_csv = pd.read_csv(\"/kaggle/input/dataset/train/train.csv\")\n",
    "    test_csv =  pd.read_csv(\"/kaggle/input/dataset/test/test.csv\")\n",
    "else:\n",
    "    train_csv = pd.read_csv(\"./train/train.csv\")\n",
    "    test_csv =  pd.read_csv(\"./test/test.csv\")\n",
    "\n",
    "labels = {1:'crack',2:'scratch',3:'tire flat',4 :'dent', 5: 'glass shatter', 6: 'lamp broken'}"
   ]
  },
  {
   "cell_type": "code",
   "execution_count": 6,
   "id": "51cbfe0b",
   "metadata": {
    "execution": {
     "iopub.execute_input": "2023-12-01T21:50:29.540214Z",
     "iopub.status.busy": "2023-12-01T21:50:29.539943Z",
     "iopub.status.idle": "2023-12-01T21:50:29.545011Z",
     "shell.execute_reply": "2023-12-01T21:50:29.543817Z"
    },
    "id": "JX4GGn4F7AZL",
    "outputId": "6336cbcb-5bac-4509-c988-6c68235cd6d4",
    "papermill": {
     "duration": 0.024809,
     "end_time": "2023-12-01T21:50:29.546992",
     "exception": false,
     "start_time": "2023-12-01T21:50:29.522183",
     "status": "completed"
    },
    "tags": []
   },
   "outputs": [
    {
     "name": "stdout",
     "output_type": "stream",
     "text": [
      "train_csv.shape=(7200, 3)\n",
      "test_csv.shape=(4800, 2)\n"
     ]
    }
   ],
   "source": [
    "# Checking number of records\n",
    "print(f\"{train_csv.shape=}\")\n",
    "print(f\"{test_csv.shape=}\")"
   ]
  },
  {
   "cell_type": "code",
   "execution_count": 7,
   "id": "0b72dded",
   "metadata": {
    "execution": {
     "iopub.execute_input": "2023-12-01T21:50:29.580264Z",
     "iopub.status.busy": "2023-12-01T21:50:29.579988Z",
     "iopub.status.idle": "2023-12-01T21:50:29.596551Z",
     "shell.execute_reply": "2023-12-01T21:50:29.595678Z"
    },
    "id": "WhONUUYy7AZL",
    "outputId": "5b6146fe-518e-496c-926e-70bdc6a67576",
    "papermill": {
     "duration": 0.035675,
     "end_time": "2023-12-01T21:50:29.598682",
     "exception": false,
     "start_time": "2023-12-01T21:50:29.563007",
     "status": "completed"
    },
    "tags": []
   },
   "outputs": [
    {
     "data": {
      "text/html": [
       "<div>\n",
       "<style scoped>\n",
       "    .dataframe tbody tr th:only-of-type {\n",
       "        vertical-align: middle;\n",
       "    }\n",
       "\n",
       "    .dataframe tbody tr th {\n",
       "        vertical-align: top;\n",
       "    }\n",
       "\n",
       "    .dataframe thead th {\n",
       "        text-align: right;\n",
       "    }\n",
       "</style>\n",
       "<table border=\"1\" class=\"dataframe\">\n",
       "  <thead>\n",
       "    <tr style=\"text-align: right;\">\n",
       "      <th></th>\n",
       "      <th>image_id</th>\n",
       "      <th>filename</th>\n",
       "      <th>label</th>\n",
       "    </tr>\n",
       "  </thead>\n",
       "  <tbody>\n",
       "    <tr>\n",
       "      <th>0</th>\n",
       "      <td>1</td>\n",
       "      <td>1.jpg</td>\n",
       "      <td>2</td>\n",
       "    </tr>\n",
       "    <tr>\n",
       "      <th>1</th>\n",
       "      <td>2</td>\n",
       "      <td>2.jpg</td>\n",
       "      <td>4</td>\n",
       "    </tr>\n",
       "    <tr>\n",
       "      <th>2</th>\n",
       "      <td>3</td>\n",
       "      <td>3.jpg</td>\n",
       "      <td>2</td>\n",
       "    </tr>\n",
       "    <tr>\n",
       "      <th>3</th>\n",
       "      <td>4</td>\n",
       "      <td>4.jpg</td>\n",
       "      <td>3</td>\n",
       "    </tr>\n",
       "    <tr>\n",
       "      <th>4</th>\n",
       "      <td>5</td>\n",
       "      <td>5.jpg</td>\n",
       "      <td>5</td>\n",
       "    </tr>\n",
       "  </tbody>\n",
       "</table>\n",
       "</div>"
      ],
      "text/plain": [
       "   image_id filename  label\n",
       "0         1    1.jpg      2\n",
       "1         2    2.jpg      4\n",
       "2         3    3.jpg      2\n",
       "3         4    4.jpg      3\n",
       "4         5    5.jpg      5"
      ]
     },
     "execution_count": 7,
     "metadata": {},
     "output_type": "execute_result"
    }
   ],
   "source": [
    "# Lets have a look at csv file\n",
    "train_csv.head()"
   ]
  },
  {
   "cell_type": "code",
   "execution_count": 8,
   "id": "c455113a",
   "metadata": {
    "execution": {
     "iopub.execute_input": "2023-12-01T21:50:29.633645Z",
     "iopub.status.busy": "2023-12-01T21:50:29.633354Z",
     "iopub.status.idle": "2023-12-01T21:50:29.640240Z",
     "shell.execute_reply": "2023-12-01T21:50:29.639357Z"
    },
    "id": "qs_UDMyV7AZM",
    "outputId": "43bafad5-3599-4716-89fd-99d129d05816",
    "papermill": {
     "duration": 0.026644,
     "end_time": "2023-12-01T21:50:29.642315",
     "exception": false,
     "start_time": "2023-12-01T21:50:29.615671",
     "status": "completed"
    },
    "tags": []
   },
   "outputs": [
    {
     "data": {
      "text/plain": [
       "image_id     int64\n",
       "filename    object\n",
       "label        int64\n",
       "dtype: object"
      ]
     },
     "execution_count": 8,
     "metadata": {},
     "output_type": "execute_result"
    }
   ],
   "source": [
    "train_csv.dtypes"
   ]
  },
  {
   "cell_type": "code",
   "execution_count": 9,
   "id": "b34bfb58",
   "metadata": {
    "execution": {
     "iopub.execute_input": "2023-12-01T21:50:29.677561Z",
     "iopub.status.busy": "2023-12-01T21:50:29.677283Z",
     "iopub.status.idle": "2023-12-01T21:50:29.690635Z",
     "shell.execute_reply": "2023-12-01T21:50:29.689733Z"
    },
    "id": "f1DnAIiL7AZN",
    "outputId": "e51fff54-4f28-4661-8f65-a3d0a332845b",
    "papermill": {
     "duration": 0.033224,
     "end_time": "2023-12-01T21:50:29.692753",
     "exception": false,
     "start_time": "2023-12-01T21:50:29.659529",
     "status": "completed"
    },
    "tags": []
   },
   "outputs": [
    {
     "data": {
      "text/plain": [
       "label\n",
       "2    2349\n",
       "4    2079\n",
       "5    1185\n",
       "6     882\n",
       "3     534\n",
       "1     171\n",
       "Name: count, dtype: int64"
      ]
     },
     "execution_count": 9,
     "metadata": {},
     "output_type": "execute_result"
    }
   ],
   "source": [
    "# Let us see number of data points for each labels\n",
    "train_csv['label'].value_counts()\n"
   ]
  },
  {
   "cell_type": "code",
   "execution_count": 10,
   "id": "63207d44",
   "metadata": {
    "execution": {
     "iopub.execute_input": "2023-12-01T21:50:29.727932Z",
     "iopub.status.busy": "2023-12-01T21:50:29.727632Z",
     "iopub.status.idle": "2023-12-01T21:50:30.112032Z",
     "shell.execute_reply": "2023-12-01T21:50:30.111069Z"
    },
    "id": "zEhZPwUC7AZO",
    "papermill": {
     "duration": 0.404982,
     "end_time": "2023-12-01T21:50:30.114625",
     "exception": false,
     "start_time": "2023-12-01T21:50:29.709643",
     "status": "completed"
    },
    "tags": []
   },
   "outputs": [],
   "source": [
    "# Define image folder path\n",
    "if colab:\n",
    "    path_to_train_images = \"/content/drive/MyDrive/hackathon/train/images/\"\n",
    "    path_to_test_images = \"/content/drive/MyDrive/hackathon/test/images/\"\n",
    "elif kaggle:\n",
    "    path_to_train_images = \"/kaggle/input/dataset/train/images/\"\n",
    "    path_to_test_images = \"/kaggle/input/dataset/test/images/\"\n",
    "else:\n",
    "    path_to_train_images = \"./train/images/\"\n",
    "    path_to_test_images = \"./test/images/\"\n",
    "\n",
    "# Listing all images\n",
    "train_image_files = os.listdir(path_to_train_images)\n",
    "#test_image_files = os.listdir(path_to_test_images)\n",
    "\n",
    "train_image_files = [t for t in train_image_files if t.endswith(\".jpg\")]\n",
    "train_image_files=[t for t in train_image_files if '(' not in t]"
   ]
  },
  {
   "cell_type": "code",
   "execution_count": 11,
   "id": "82c89669",
   "metadata": {
    "execution": {
     "iopub.execute_input": "2023-12-01T21:50:30.195996Z",
     "iopub.status.busy": "2023-12-01T21:50:30.195617Z",
     "iopub.status.idle": "2023-12-01T21:50:30.199822Z",
     "shell.execute_reply": "2023-12-01T21:50:30.198920Z"
    },
    "id": "Q-nvkg3G7AZO",
    "papermill": {
     "duration": 0.069025,
     "end_time": "2023-12-01T21:50:30.201991",
     "exception": false,
     "start_time": "2023-12-01T21:50:30.132966",
     "status": "completed"
    },
    "tags": []
   },
   "outputs": [],
   "source": [
    "# print(f\"{train_image_files=}\")\n",
    "# print(f\"{test_image_files=}\")\n",
    "#len(set(train_image_files))"
   ]
  },
  {
   "cell_type": "code",
   "execution_count": 12,
   "id": "2ea03b8d",
   "metadata": {
    "execution": {
     "iopub.execute_input": "2023-12-01T21:50:30.239060Z",
     "iopub.status.busy": "2023-12-01T21:50:30.238675Z",
     "iopub.status.idle": "2023-12-01T21:50:30.243432Z",
     "shell.execute_reply": "2023-12-01T21:50:30.242538Z"
    },
    "id": "fSeUj4qO7AZP",
    "papermill": {
     "duration": 0.025595,
     "end_time": "2023-12-01T21:50:30.245488",
     "exception": false,
     "start_time": "2023-12-01T21:50:30.219893",
     "status": "completed"
    },
    "tags": []
   },
   "outputs": [],
   "source": [
    "\n",
    "# # Check some images of train\n",
    "\n",
    "# for i,image_file in enumerate(train_image_files):\n",
    "#     if image_file.endswith(\".jpg\") or image_file.endswith(\".png\"):\n",
    "#         if i < 5:\n",
    "#             print('Labels : ' , f\"{labels[int(train_csv.loc[train_csv['filename'] == image_file]['label'])]}\")\n",
    "\n",
    "#             image = Image.open(path_to_train_images + image_file)\n",
    "#             display(image)\n",
    "\n",
    "#             print(\"-\"*50)\n",
    "\n",
    "#         else:\n",
    "#             break"
   ]
  },
  {
   "cell_type": "code",
   "execution_count": 13,
   "id": "b956aed8",
   "metadata": {
    "execution": {
     "iopub.execute_input": "2023-12-01T21:50:30.281686Z",
     "iopub.status.busy": "2023-12-01T21:50:30.281335Z",
     "iopub.status.idle": "2023-12-01T21:50:30.286169Z",
     "shell.execute_reply": "2023-12-01T21:50:30.285255Z"
    },
    "id": "T2p9xNej7AZQ",
    "papermill": {
     "duration": 0.025509,
     "end_time": "2023-12-01T21:50:30.288246",
     "exception": false,
     "start_time": "2023-12-01T21:50:30.262737",
     "status": "completed"
    },
    "tags": []
   },
   "outputs": [],
   "source": [
    "# # Let us find the maximum height and maximum weight in all images\n",
    "# train_max_width = -float('inf')\n",
    "# train_max_height = -float('inf')\n",
    "\n",
    "# train_min_width = float('inf')\n",
    "# train_min_height = float('inf')\n",
    "\n",
    "\n",
    "# for image_file in train_image_files:\n",
    "#     if image_file.endswith(\".jpg\") or image_file.endswith(\".png\"):\n",
    "#         image = Image.open(path_to_train_images + image_file)\n",
    "\n",
    "#         width, height = image.size\n",
    "\n",
    "#         train_max_height = max(height,train_max_height)\n",
    "#         train_max_width = max(width,train_max_width)\n",
    "\n",
    "#         train_min_width = min(height,train_max_height)\n",
    "#         train_min_height = min(height,train_max_height)\n",
    "\n",
    "# print(f\"{train_max_height=}\")\n",
    "\n",
    "# print(f\"{train_max_width=}\")\n",
    "\n",
    "# print(f\"{train_min_height=}\")\n",
    "\n",
    "# print(f\"{train_min_width=}\")"
   ]
  },
  {
   "cell_type": "code",
   "execution_count": null,
   "id": "08c0e57e",
   "metadata": {
    "id": "zE5CpXUcZgfC",
    "papermill": {
     "duration": 0.017732,
     "end_time": "2023-12-01T21:50:30.323123",
     "exception": false,
     "start_time": "2023-12-01T21:50:30.305391",
     "status": "completed"
    },
    "tags": []
   },
   "outputs": [],
   "source": []
  },
  {
   "cell_type": "code",
   "execution_count": null,
   "id": "71ae9d31",
   "metadata": {
    "papermill": {
     "duration": 0.016732,
     "end_time": "2023-12-01T21:50:30.357393",
     "exception": false,
     "start_time": "2023-12-01T21:50:30.340661",
     "status": "completed"
    },
    "tags": []
   },
   "outputs": [],
   "source": []
  },
  {
   "cell_type": "code",
   "execution_count": 14,
   "id": "0550b799",
   "metadata": {
    "execution": {
     "iopub.execute_input": "2023-12-01T21:50:30.393374Z",
     "iopub.status.busy": "2023-12-01T21:50:30.392965Z",
     "iopub.status.idle": "2023-12-01T21:51:40.069238Z",
     "shell.execute_reply": "2023-12-01T21:51:40.068278Z"
    },
    "id": "XQiGLEz47AZR",
    "papermill": {
     "duration": 69.697247,
     "end_time": "2023-12-01T21:51:40.071895",
     "exception": false,
     "start_time": "2023-12-01T21:50:30.374648",
     "status": "completed"
    },
    "tags": []
   },
   "outputs": [],
   "source": [
    "labels = {1:'crack',2:'scratch',3:'tire flat',4 :'dent', 5: 'glass shatter', 6: 'lamp broken'}\n",
    "folder = './dataset/train'\n",
    "train_image_files=[t for t in train_image_files if '(' not in t]\n",
    "\n",
    "#making folder for each classes\n",
    "for values in labels:\n",
    "    path = os.path.join(folder,str(values))\n",
    "    os.makedirs(path,exist_ok=True)\n",
    "\n",
    "# coping our raw data to each classes\n",
    "\n",
    "for image in train_image_files:\n",
    " #   print(image)\n",
    "    label = int((train_csv[train_csv['filename'] == image]['label']).iloc[0])\n",
    "  #  print(label)\n",
    "  #  path = os.path.join(folder,label,'/')\n",
    "    from_path = os.path.join(path_to_train_images,image)\n",
    "    to_path = os.path.join(folder,str(label))\n",
    "    if not os.path.exists(os.path.join(to_path,image)):\n",
    "      shutil.copy(from_path,to_path)\n"
   ]
  },
  {
   "cell_type": "code",
   "execution_count": 15,
   "id": "340cde7e",
   "metadata": {
    "execution": {
     "iopub.execute_input": "2023-12-01T21:51:40.109367Z",
     "iopub.status.busy": "2023-12-01T21:51:40.108982Z",
     "iopub.status.idle": "2023-12-01T21:51:40.646301Z",
     "shell.execute_reply": "2023-12-01T21:51:40.645195Z"
    },
    "id": "rrjBjBSf7AZS",
    "outputId": "dcbc974b-3833-4d12-af42-3084ffe7160c",
    "papermill": {
     "duration": 0.559035,
     "end_time": "2023-12-01T21:51:40.648979",
     "exception": false,
     "start_time": "2023-12-01T21:51:40.089944",
     "status": "completed"
    },
    "tags": []
   },
   "outputs": [
    {
     "name": "stderr",
     "output_type": "stream",
     "text": [
      "Copying files: 7200 files [00:00, 14184.76 files/s]\n"
     ]
    }
   ],
   "source": [
    "\n",
    "import splitfolders\n",
    "\n",
    "# Split with a ratio.\n",
    "# To only split into training and validation set, set a tuple to `ratio`, i.e, `(.8, .2)`.\n",
    "splitfolders.ratio(\"./dataset/train\", output=\"./dataset_final\",\n",
    "    seed=1337, ratio=(.8, .2, ), group_prefix=None, move=True) # default values\n"
   ]
  },
  {
   "cell_type": "code",
   "execution_count": 16,
   "id": "1995f6d3",
   "metadata": {
    "execution": {
     "iopub.execute_input": "2023-12-01T21:51:40.686423Z",
     "iopub.status.busy": "2023-12-01T21:51:40.685543Z",
     "iopub.status.idle": "2023-12-01T21:51:52.196312Z",
     "shell.execute_reply": "2023-12-01T21:51:52.195479Z"
    },
    "id": "xlmdAI347AZT",
    "papermill": {
     "duration": 11.531936,
     "end_time": "2023-12-01T21:51:52.198919",
     "exception": false,
     "start_time": "2023-12-01T21:51:40.666983",
     "status": "completed"
    },
    "tags": []
   },
   "outputs": [
    {
     "name": "stderr",
     "output_type": "stream",
     "text": [
      "/opt/conda/lib/python3.10/site-packages/scipy/__init__.py:146: UserWarning: A NumPy version >=1.16.5 and <1.23.0 is required for this version of SciPy (detected version 1.24.3\n",
      "  warnings.warn(f\"A NumPy version >={np_minversion} and <{np_maxversion}\"\n"
     ]
    }
   ],
   "source": [
    "from tensorflow.keras.applications import EfficientNetB7"
   ]
  },
  {
   "cell_type": "code",
   "execution_count": 17,
   "id": "0a40ce44",
   "metadata": {
    "execution": {
     "iopub.execute_input": "2023-12-01T21:51:52.237464Z",
     "iopub.status.busy": "2023-12-01T21:51:52.236436Z",
     "iopub.status.idle": "2023-12-01T21:51:52.243679Z",
     "shell.execute_reply": "2023-12-01T21:51:52.242932Z"
    },
    "id": "7ms4WBmi7AZU",
    "papermill": {
     "duration": 0.028962,
     "end_time": "2023-12-01T21:51:52.245617",
     "exception": false,
     "start_time": "2023-12-01T21:51:52.216655",
     "status": "completed"
    },
    "tags": []
   },
   "outputs": [],
   "source": [
    "import tensorflow as tf\n",
    "from tensorflow.python.keras.models import Sequential\n",
    "from tensorflow.python.keras.layers import Dense, Flatten, GlobalAveragePooling2D, Dropout\n",
    "from tensorflow.keras.preprocessing.image import ImageDataGenerator\n",
    "from tensorflow.keras.optimizers import RMSprop\n",
    "\n",
    "import keras\n",
    "from keras import layers\n",
    "\n",
    "\n",
    "IMG_SIZE = 600\n",
    "batch = 32"
   ]
  },
  {
   "cell_type": "code",
   "execution_count": 18,
   "id": "1dd8e585",
   "metadata": {
    "execution": {
     "iopub.execute_input": "2023-12-01T21:51:52.280742Z",
     "iopub.status.busy": "2023-12-01T21:51:52.280473Z",
     "iopub.status.idle": "2023-12-01T21:51:52.683857Z",
     "shell.execute_reply": "2023-12-01T21:51:52.683107Z"
    },
    "id": "gtNDUI3E7AZU",
    "outputId": "d647b072-5c9e-4e2d-9ec3-0c5fd3bc43bc",
    "papermill": {
     "duration": 0.423537,
     "end_time": "2023-12-01T21:51:52.686061",
     "exception": false,
     "start_time": "2023-12-01T21:51:52.262524",
     "status": "completed"
    },
    "tags": []
   },
   "outputs": [
    {
     "name": "stdout",
     "output_type": "stream",
     "text": [
      "Found 5758 images belonging to 6 classes.\n",
      "Found 1442 images belonging to 6 classes.\n"
     ]
    }
   ],
   "source": [
    "# Add our data-augmentation parameters to ImageDataGenerator\n",
    "\n",
    "train_dir = './dataset_final/train'\n",
    "validation_dir = './dataset_final/val'\n",
    "\n",
    "\n",
    "train_datagen = ImageDataGenerator()#rotation_range = 40, width_shift_range = 0.2, height_shift_range = 0.2, shear_range = 0.2, zoom_range = 0.2, horizontal_flip = True)\n",
    "\n",
    "valid_datagen = ImageDataGenerator()\n",
    "\n",
    "\n",
    "train_generator = train_datagen.flow_from_directory(train_dir, batch_size = batch, class_mode = 'categorical', target_size = (IMG_SIZE , IMG_SIZE ))\n",
    "\n",
    "validation_generator = valid_datagen.flow_from_directory( validation_dir, batch_size = batch, class_mode = 'categorical', target_size = (IMG_SIZE, IMG_SIZE))\n",
    "\n"
   ]
  },
  {
   "cell_type": "code",
   "execution_count": null,
   "id": "e48638c3",
   "metadata": {
    "id": "tkTXvgqW3kIf",
    "papermill": {
     "duration": 0.017281,
     "end_time": "2023-12-01T21:51:52.721728",
     "exception": false,
     "start_time": "2023-12-01T21:51:52.704447",
     "status": "completed"
    },
    "tags": []
   },
   "outputs": [],
   "source": []
  },
  {
   "cell_type": "code",
   "execution_count": 19,
   "id": "501000ad",
   "metadata": {
    "execution": {
     "iopub.execute_input": "2023-12-01T21:51:52.756968Z",
     "iopub.status.busy": "2023-12-01T21:51:52.756580Z",
     "iopub.status.idle": "2023-12-01T21:51:52.761347Z",
     "shell.execute_reply": "2023-12-01T21:51:52.760506Z"
    },
    "id": "-2eDfqWD3kF5",
    "papermill": {
     "duration": 0.024774,
     "end_time": "2023-12-01T21:51:52.763238",
     "exception": false,
     "start_time": "2023-12-01T21:51:52.738464",
     "status": "completed"
    },
    "tags": []
   },
   "outputs": [],
   "source": [
    "# import keras\n",
    "# from keras import layers\n",
    "\n",
    "\n",
    "# def build_model(num_classes):\n",
    "#     inputs = layers.Input(shape=(IMG_SIZE, IMG_SIZE, 3))\n",
    "#     model = EfficientNetB7(include_top=False, input_tensor=inputs, weights=\"imagenet\")\n",
    "\n",
    "#     # Freeze the pretrained weights\n",
    "#     model.trainable = False\n",
    "\n",
    "#     # Rebuild top\n",
    "#     x = layers.GlobalAveragePooling2D(name=\"avg_pool\")(model.output)\n",
    "#     x = layers.BatchNormalization()(x)\n",
    "\n",
    "#     top_dropout_rate = 0.2\n",
    "#     x = layers.Dropout(top_dropout_rate, name=\"top_dropout\")(x)\n",
    "#     outputs = layers.Dense(num_classes, activation=\"softmax\", name=\"pred\")(x)\n",
    "\n",
    "#     # Compile\n",
    "#     model = keras.Model(inputs, outputs, name=\"EfficientNet\")\n",
    "#     optimizer = keras.optimizers.Adam(learning_rate=1e-1)\n",
    "#     model.compile(\n",
    "#         optimizer=optimizer, loss=\"categorical_crossentropy\", metrics=[\"accuracy\"]\n",
    "#     )\n",
    "#     return model"
   ]
  },
  {
   "cell_type": "code",
   "execution_count": 20,
   "id": "a422be77",
   "metadata": {
    "execution": {
     "iopub.execute_input": "2023-12-01T21:51:52.797848Z",
     "iopub.status.busy": "2023-12-01T21:51:52.797574Z",
     "iopub.status.idle": "2023-12-01T21:51:52.801286Z",
     "shell.execute_reply": "2023-12-01T21:51:52.800574Z"
    },
    "id": "pjqEtRbPebkb",
    "papermill": {
     "duration": 0.022852,
     "end_time": "2023-12-01T21:51:52.803191",
     "exception": false,
     "start_time": "2023-12-01T21:51:52.780339",
     "status": "completed"
    },
    "tags": []
   },
   "outputs": [],
   "source": [
    "# NUM_CLASSES = 6\n",
    "# model = build_model(num_classes=NUM_CLASSES)\n",
    "\n"
   ]
  },
  {
   "cell_type": "code",
   "execution_count": 21,
   "id": "ca26fa1b",
   "metadata": {
    "execution": {
     "iopub.execute_input": "2023-12-01T21:51:52.839688Z",
     "iopub.status.busy": "2023-12-01T21:51:52.839082Z",
     "iopub.status.idle": "2023-12-01T21:51:52.843262Z",
     "shell.execute_reply": "2023-12-01T21:51:52.842454Z"
    },
    "id": "klIHmZ8jeR99",
    "papermill": {
     "duration": 0.024578,
     "end_time": "2023-12-01T21:51:52.845223",
     "exception": false,
     "start_time": "2023-12-01T21:51:52.820645",
     "status": "completed"
    },
    "tags": []
   },
   "outputs": [],
   "source": [
    "# #checkpoint_filepath = './ckpt/checkpoint.weights.h5'\n",
    "# # include the epoch in the file name. (use `str.format`)\n",
    "# checkpoint_path = './training_2/cp-{epoch:04d}.ckpt'\n",
    "# checkpoint_dir = os.path.dirname(checkpoint_path)\n",
    "\n",
    "# model_checkpoint_callback = keras.callbacks.ModelCheckpoint(\n",
    "#     filepath=checkpoint_path,\n",
    "#     save_weights_only=True,\n",
    "#     monitor='val_accuracy',\n",
    "#     mode='max',\n",
    "#     save_best_only=True)"
   ]
  },
  {
   "cell_type": "code",
   "execution_count": 22,
   "id": "efb1f684",
   "metadata": {
    "execution": {
     "iopub.execute_input": "2023-12-01T21:51:52.881435Z",
     "iopub.status.busy": "2023-12-01T21:51:52.881156Z",
     "iopub.status.idle": "2023-12-01T21:51:52.885236Z",
     "shell.execute_reply": "2023-12-01T21:51:52.884391Z"
    },
    "id": "gCJve6koThdG",
    "papermill": {
     "duration": 0.025067,
     "end_time": "2023-12-01T21:51:52.887210",
     "exception": false,
     "start_time": "2023-12-01T21:51:52.862143",
     "status": "completed"
    },
    "tags": []
   },
   "outputs": [],
   "source": [
    "# model.save('/content/models')"
   ]
  },
  {
   "cell_type": "code",
   "execution_count": null,
   "id": "d5adfb75",
   "metadata": {
    "id": "AlOprXNIeQKa",
    "papermill": {
     "duration": 0.017987,
     "end_time": "2023-12-01T21:51:52.922067",
     "exception": false,
     "start_time": "2023-12-01T21:51:52.904080",
     "status": "completed"
    },
    "tags": []
   },
   "outputs": [],
   "source": []
  },
  {
   "cell_type": "code",
   "execution_count": 23,
   "id": "8c3e7c98",
   "metadata": {
    "execution": {
     "iopub.execute_input": "2023-12-01T21:51:52.959534Z",
     "iopub.status.busy": "2023-12-01T21:51:52.958820Z",
     "iopub.status.idle": "2023-12-01T21:51:52.963234Z",
     "shell.execute_reply": "2023-12-01T21:51:52.962152Z"
    },
    "id": "cyJ1x3yaTFQu",
    "outputId": "f3c7225e-00a8-4c6d-9bb3-b43a2a76e8ab",
    "papermill": {
     "duration": 0.025457,
     "end_time": "2023-12-01T21:51:52.965257",
     "exception": false,
     "start_time": "2023-12-01T21:51:52.939800",
     "status": "completed"
    },
    "tags": []
   },
   "outputs": [],
   "source": [
    "# epochs = 10\n",
    "# hist = model.fit(train_generator, steps_per_epoch = 40,\n",
    "#                  epochs=epochs, validation_data=validation_generator, callbacks=[model_checkpoint_callback])"
   ]
  },
  {
   "cell_type": "code",
   "execution_count": null,
   "id": "e3d64b85",
   "metadata": {
    "execution": {
     "iopub.execute_input": "2023-12-01T19:17:30.810642Z",
     "iopub.status.busy": "2023-12-01T19:17:30.810269Z",
     "iopub.status.idle": "2023-12-01T19:19:13.862085Z",
     "shell.execute_reply": "2023-12-01T19:19:13.861175Z",
     "shell.execute_reply.started": "2023-12-01T19:17:30.810614Z"
    },
    "id": "gbLUi2RXVtWM",
    "papermill": {
     "duration": 0.01755,
     "end_time": "2023-12-01T21:51:53.000461",
     "exception": false,
     "start_time": "2023-12-01T21:51:52.982911",
     "status": "completed"
    },
    "tags": []
   },
   "outputs": [],
   "source": []
  },
  {
   "cell_type": "code",
   "execution_count": 24,
   "id": "83ea8cd3",
   "metadata": {
    "execution": {
     "iopub.execute_input": "2023-12-01T21:51:53.037663Z",
     "iopub.status.busy": "2023-12-01T21:51:53.036900Z",
     "iopub.status.idle": "2023-12-01T21:54:21.890402Z",
     "shell.execute_reply": "2023-12-01T21:54:21.889532Z"
    },
    "id": "9sRoIdE6VtO5",
    "papermill": {
     "duration": 148.874612,
     "end_time": "2023-12-01T21:54:21.892811",
     "exception": false,
     "start_time": "2023-12-01T21:51:53.018199",
     "status": "completed"
    },
    "tags": []
   },
   "outputs": [],
   "source": [
    "model = tf.keras.models.load_model('/kaggle/input/model-keras/my_model.keras')"
   ]
  },
  {
   "cell_type": "code",
   "execution_count": 25,
   "id": "dced830f",
   "metadata": {
    "execution": {
     "iopub.execute_input": "2023-12-01T21:54:21.928125Z",
     "iopub.status.busy": "2023-12-01T21:54:21.927770Z",
     "iopub.status.idle": "2023-12-01T21:54:21.960889Z",
     "shell.execute_reply": "2023-12-01T21:54:21.959916Z"
    },
    "id": "0VojUXK9Il5d",
    "outputId": "99669670-6f34-41d7-b63b-73839f243315",
    "papermill": {
     "duration": 0.053023,
     "end_time": "2023-12-01T21:54:21.963099",
     "exception": false,
     "start_time": "2023-12-01T21:54:21.910076",
     "status": "completed"
    },
    "tags": []
   },
   "outputs": [],
   "source": [
    "def unfreeze_model(model):\n",
    "    # We unfreeze the top 5 layers while leaving BatchNorm layers frozen\n",
    "    for layer in model.layers[-20:]:\n",
    "        if not isinstance(layer, layers.BatchNormalization):\n",
    "            layer.trainable = True\n",
    "\n",
    "    optimizer = keras.optimizers.Adam(learning_rate=1e-5)\n",
    "    model.compile(\n",
    "        optimizer=optimizer, loss=\"categorical_crossentropy\", metrics=[\"accuracy\"]\n",
    "    )\n",
    "\n",
    "\n",
    "unfreeze_model(model)\n",
    "\n"
   ]
  },
  {
   "cell_type": "code",
   "execution_count": 26,
   "id": "73e58525",
   "metadata": {
    "execution": {
     "iopub.execute_input": "2023-12-01T21:54:21.998285Z",
     "iopub.status.busy": "2023-12-01T21:54:21.997966Z",
     "iopub.status.idle": "2023-12-02T01:25:21.545141Z",
     "shell.execute_reply": "2023-12-02T01:25:21.544130Z"
    },
    "papermill": {
     "duration": 12659.862268,
     "end_time": "2023-12-02T01:25:21.841975",
     "exception": false,
     "start_time": "2023-12-01T21:54:21.979707",
     "status": "completed"
    },
    "tags": []
   },
   "outputs": [
    {
     "name": "stdout",
     "output_type": "stream",
     "text": [
      "Epoch 1/20\n"
     ]
    },
    {
     "name": "stderr",
     "output_type": "stream",
     "text": [
      "2023-12-01 21:54:46.157244: E tensorflow/core/grappler/optimizers/meta_optimizer.cc:954] layout failed: INVALID_ARGUMENT: Size of values 0 does not match size of permutation 4 @ fanin shape inEfficientNet/block1b_drop/dropout/SelectV2-2-TransposeNHWCToNCHW-LayoutOptimizer\n"
     ]
    },
    {
     "name": "stdout",
     "output_type": "stream",
     "text": [
      "180/180 [==============================] - 674s 4s/step - loss: 9.8583 - accuracy: 0.7709 - val_loss: 8.4472 - val_accuracy: 0.7822\n",
      "Epoch 2/20\n",
      "180/180 [==============================] - 629s 3s/step - loss: 9.2592 - accuracy: 0.7827 - val_loss: 7.9575 - val_accuracy: 0.7906\n",
      "Epoch 3/20\n",
      "180/180 [==============================] - 629s 3s/step - loss: 7.9654 - accuracy: 0.7975 - val_loss: 7.2042 - val_accuracy: 0.8024\n",
      "Epoch 4/20\n",
      "180/180 [==============================] - 629s 3s/step - loss: 7.4146 - accuracy: 0.7989 - val_loss: 6.5524 - val_accuracy: 0.8093\n",
      "Epoch 5/20\n",
      "180/180 [==============================] - 629s 3s/step - loss: 7.3463 - accuracy: 0.8022 - val_loss: 6.3130 - val_accuracy: 0.8176\n",
      "Epoch 6/20\n",
      "180/180 [==============================] - 629s 3s/step - loss: 6.8538 - accuracy: 0.8048 - val_loss: 5.9533 - val_accuracy: 0.8162\n",
      "Epoch 7/20\n",
      "180/180 [==============================] - 629s 3s/step - loss: 6.4848 - accuracy: 0.8168 - val_loss: 5.4149 - val_accuracy: 0.8211\n",
      "Epoch 8/20\n",
      "180/180 [==============================] - 629s 3s/step - loss: 6.1385 - accuracy: 0.8185 - val_loss: 5.1694 - val_accuracy: 0.8245\n",
      "Epoch 9/20\n",
      "180/180 [==============================] - 629s 3s/step - loss: 5.5830 - accuracy: 0.8263 - val_loss: 5.0444 - val_accuracy: 0.8350\n",
      "Epoch 10/20\n",
      "180/180 [==============================] - 629s 3s/step - loss: 5.1288 - accuracy: 0.8388 - val_loss: 4.7404 - val_accuracy: 0.8426\n",
      "Epoch 11/20\n",
      "180/180 [==============================] - 629s 3s/step - loss: 4.9575 - accuracy: 0.8378 - val_loss: 4.2633 - val_accuracy: 0.8495\n",
      "Epoch 12/20\n",
      "180/180 [==============================] - 629s 3s/step - loss: 4.7426 - accuracy: 0.8454 - val_loss: 4.1513 - val_accuracy: 0.8558\n",
      "Epoch 13/20\n",
      "180/180 [==============================] - 629s 3s/step - loss: 4.7209 - accuracy: 0.8449 - val_loss: 3.9185 - val_accuracy: 0.8613\n",
      "Epoch 14/20\n",
      "180/180 [==============================] - 629s 3s/step - loss: 4.6479 - accuracy: 0.8468 - val_loss: 3.7177 - val_accuracy: 0.8620\n",
      "Epoch 15/20\n",
      "180/180 [==============================] - 629s 3s/step - loss: 4.2914 - accuracy: 0.8534 - val_loss: 3.7152 - val_accuracy: 0.8648\n",
      "Epoch 16/20\n",
      "180/180 [==============================] - 629s 3s/step - loss: 4.3400 - accuracy: 0.8505 - val_loss: 3.5696 - val_accuracy: 0.8669\n",
      "Epoch 17/20\n",
      "180/180 [==============================] - 629s 3s/step - loss: 3.8854 - accuracy: 0.8597 - val_loss: 3.3265 - val_accuracy: 0.8724\n",
      "Epoch 18/20\n",
      "180/180 [==============================] - 629s 3s/step - loss: 3.5348 - accuracy: 0.8623 - val_loss: 3.2321 - val_accuracy: 0.8786\n",
      "Epoch 19/20\n",
      "180/180 [==============================] - 629s 3s/step - loss: 3.6616 - accuracy: 0.8593 - val_loss: 3.2432 - val_accuracy: 0.8752\n",
      "Epoch 20/20\n",
      "180/180 [==============================] - 629s 3s/step - loss: 3.3150 - accuracy: 0.8746 - val_loss: 2.9314 - val_accuracy: 0.8849\n"
     ]
    }
   ],
   "source": [
    "epochs = 20\n",
    "#hist = model.fit(train_generator, epochs=epochs, validation_data=validation_generator,callbacks=[model_checkpoint_callback])\n",
    "hist = model.fit(train_generator, epochs=epochs, validation_data=validation_generator)#,callbacks=[model_checkpoint_callback])\n"
   ]
  },
  {
   "cell_type": "code",
   "execution_count": 27,
   "id": "be8a7296",
   "metadata": {
    "execution": {
     "iopub.execute_input": "2023-12-02T01:25:22.449691Z",
     "iopub.status.busy": "2023-12-02T01:25:22.448806Z",
     "iopub.status.idle": "2023-12-02T01:25:25.827610Z",
     "shell.execute_reply": "2023-12-02T01:25:25.826523Z"
    },
    "papermill": {
     "duration": 3.686424,
     "end_time": "2023-12-02T01:25:25.829971",
     "exception": false,
     "start_time": "2023-12-02T01:25:22.143547",
     "status": "completed"
    },
    "tags": []
   },
   "outputs": [],
   "source": [
    "model.save('my_model2.keras')"
   ]
  },
  {
   "cell_type": "code",
   "execution_count": 28,
   "id": "3b09d9c0",
   "metadata": {
    "execution": {
     "iopub.execute_input": "2023-12-02T01:25:26.434574Z",
     "iopub.status.busy": "2023-12-02T01:25:26.433845Z",
     "iopub.status.idle": "2023-12-02T01:25:26.438285Z",
     "shell.execute_reply": "2023-12-02T01:25:26.437352Z"
    },
    "id": "RrO6OC9XIl2U",
    "outputId": "04ee5cba-937d-4dcb-ee85-04f613fee190",
    "papermill": {
     "duration": 0.308571,
     "end_time": "2023-12-02T01:25:26.440265",
     "exception": false,
     "start_time": "2023-12-02T01:25:26.131694",
     "status": "completed"
    },
    "tags": []
   },
   "outputs": [],
   "source": [
    "\n",
    "# def plot_hist(hist):\n",
    "#     plt.plot(hist.history[\"accuracy\"])\n",
    "#     plt.plot(hist.history[\"val_accuracy\"])\n",
    "#     plt.title(\"model accuracy\")\n",
    "#     plt.ylabel(\"accuracy\")\n",
    "#     plt.xlabel(\"epoch\")\n",
    "#     plt.legend([\"train\", \"validation\"], loc=\"upper left\")\n",
    "#     plt.show()\n",
    "# plot_hist(hist)"
   ]
  },
  {
   "cell_type": "code",
   "execution_count": 29,
   "id": "7d5c957a",
   "metadata": {
    "execution": {
     "iopub.execute_input": "2023-12-02T01:25:27.158777Z",
     "iopub.status.busy": "2023-12-02T01:25:27.157752Z",
     "iopub.status.idle": "2023-12-02T01:25:27.162830Z",
     "shell.execute_reply": "2023-12-02T01:25:27.161907Z"
    },
    "id": "w59jLvs7Ilzo",
    "papermill": {
     "duration": 0.40014,
     "end_time": "2023-12-02T01:25:27.164755",
     "exception": false,
     "start_time": "2023-12-02T01:25:26.764615",
     "status": "completed"
    },
    "tags": []
   },
   "outputs": [],
   "source": [
    "# Model weights are saved at the end of every epoch, if it's the best seen\n",
    "# so far.\n",
    "#model.fit(epochs=EPOCHS, callbacks=[model_checkpoint_callback])\n",
    "\n",
    "# The model weights (that are considered the best) can be loaded as -\n",
    "#model.load_weights(checkpoint_filepath)"
   ]
  },
  {
   "cell_type": "code",
   "execution_count": 30,
   "id": "fd0d3492",
   "metadata": {
    "execution": {
     "iopub.execute_input": "2023-12-02T01:25:27.770673Z",
     "iopub.status.busy": "2023-12-02T01:25:27.769783Z",
     "iopub.status.idle": "2023-12-02T01:25:33.875214Z",
     "shell.execute_reply": "2023-12-02T01:25:33.874098Z"
    },
    "id": "DGpOIhMhIlxm",
    "papermill": {
     "duration": 6.411774,
     "end_time": "2023-12-02T01:25:33.877506",
     "exception": false,
     "start_time": "2023-12-02T01:25:27.465732",
     "status": "completed"
    },
    "tags": []
   },
   "outputs": [
    {
     "name": "stdout",
     "output_type": "stream",
     "text": [
      "Found 4800 images belonging to 1 classes.\n"
     ]
    }
   ],
   "source": [
    "if colab:\n",
    "    test_dir = '/content/drive/MyDrive/hackathon/test'\n",
    "elif kaggle:\n",
    "    test_dir = \"/kaggle/input/dataset/test/\"\n",
    "else:\n",
    "    test_dir = './test/'\n",
    "test_datagen = ImageDataGenerator()\n",
    "\n",
    "test_generator = test_datagen.flow_from_directory( test_dir, batch_size = 20, class_mode = None, target_size = (IMG_SIZE, IMG_SIZE))\n",
    "\n",
    "test_generator.reset()\n"
   ]
  },
  {
   "cell_type": "code",
   "execution_count": 31,
   "id": "159ba397",
   "metadata": {
    "execution": {
     "iopub.execute_input": "2023-12-02T01:25:34.497464Z",
     "iopub.status.busy": "2023-12-02T01:25:34.497103Z",
     "iopub.status.idle": "2023-12-02T01:32:18.243093Z",
     "shell.execute_reply": "2023-12-02T01:32:18.242163Z"
    },
    "id": "mv7PvR_GIlu0",
    "papermill": {
     "duration": 404.051544,
     "end_time": "2023-12-02T01:32:18.245401",
     "exception": false,
     "start_time": "2023-12-02T01:25:34.193857",
     "status": "completed"
    },
    "tags": []
   },
   "outputs": [
    {
     "name": "stdout",
     "output_type": "stream",
     "text": [
      "240/240 [==============================] - 402s 2s/step\n"
     ]
    }
   ],
   "source": [
    "predictions = model.predict(test_generator)\n",
    "\n",
    "predicted_class_indices=np.argmax(predictions,axis=1)\n",
    "labels_map = (train_generator.class_indices)\n",
    "labels_map = dict((v,k) for k,v in labels_map.items())\n",
    "predictions = [labels_map[i] for i in predicted_class_indices]"
   ]
  },
  {
   "cell_type": "code",
   "execution_count": 32,
   "id": "016f06ef",
   "metadata": {
    "execution": {
     "iopub.execute_input": "2023-12-02T01:32:18.887074Z",
     "iopub.status.busy": "2023-12-02T01:32:18.886682Z",
     "iopub.status.idle": "2023-12-02T01:32:18.905619Z",
     "shell.execute_reply": "2023-12-02T01:32:18.904907Z"
    },
    "id": "InHFmtviIlsR",
    "papermill": {
     "duration": 0.339302,
     "end_time": "2023-12-02T01:32:18.907485",
     "exception": false,
     "start_time": "2023-12-02T01:32:18.568183",
     "status": "completed"
    },
    "tags": []
   },
   "outputs": [],
   "source": [
    "# Preparing submitssion file\n",
    "\n",
    "filenames=test_generator.filenames\n",
    "filenames = [f[7:-3] for f in filenames]\n",
    "results=pd.DataFrame({\"image_id\":filenames,\n",
    "                      \"label\":predictions})\n",
    "results.to_csv(\"sub.csv\",index=False)"
   ]
  },
  {
   "cell_type": "code",
   "execution_count": 33,
   "id": "ab1f594a",
   "metadata": {
    "execution": {
     "iopub.execute_input": "2023-12-02T01:32:19.547711Z",
     "iopub.status.busy": "2023-12-02T01:32:19.547373Z",
     "iopub.status.idle": "2023-12-02T01:32:19.551546Z",
     "shell.execute_reply": "2023-12-02T01:32:19.550706Z"
    },
    "id": "PMBamtL7Ilpf",
    "papermill": {
     "duration": 0.325313,
     "end_time": "2023-12-02T01:32:19.553558",
     "exception": false,
     "start_time": "2023-12-02T01:32:19.228245",
     "status": "completed"
    },
    "tags": []
   },
   "outputs": [],
   "source": [
    "#len(filenames)"
   ]
  },
  {
   "cell_type": "code",
   "execution_count": 34,
   "id": "4e5c4279",
   "metadata": {
    "execution": {
     "iopub.execute_input": "2023-12-02T01:32:20.195246Z",
     "iopub.status.busy": "2023-12-02T01:32:20.194877Z",
     "iopub.status.idle": "2023-12-02T01:32:20.199037Z",
     "shell.execute_reply": "2023-12-02T01:32:20.198099Z"
    },
    "id": "fsk1cAesIlmx",
    "papermill": {
     "duration": 0.327516,
     "end_time": "2023-12-02T01:32:20.200912",
     "exception": false,
     "start_time": "2023-12-02T01:32:19.873396",
     "status": "completed"
    },
    "tags": []
   },
   "outputs": [],
   "source": [
    "#set(predictions)"
   ]
  },
  {
   "cell_type": "code",
   "execution_count": 35,
   "id": "1c83a3c8",
   "metadata": {
    "execution": {
     "iopub.execute_input": "2023-12-02T01:32:20.840396Z",
     "iopub.status.busy": "2023-12-02T01:32:20.839758Z",
     "iopub.status.idle": "2023-12-02T01:32:20.846442Z",
     "shell.execute_reply": "2023-12-02T01:32:20.845646Z"
    },
    "id": "Jlltx_nHIlkW",
    "papermill": {
     "duration": 0.329321,
     "end_time": "2023-12-02T01:32:20.848272",
     "exception": false,
     "start_time": "2023-12-02T01:32:20.518951",
     "status": "completed"
    },
    "tags": []
   },
   "outputs": [],
   "source": [
    "# from sklearn.metrics import f1_score\n",
    "# import numpy as np\n",
    "# import keras\n",
    "\n",
    "# class DataCallback(keras.callbacks.Callback):  # diff\n",
    "#     \"\"\"Callback to operate on batch data from metric.\"\"\"\n",
    "\n",
    "#     def __init__(self):\n",
    "#         \"\"\"Offer a metric to access batch data.\"\"\"\n",
    "#         super().__init__()\n",
    "\n",
    "#         self.y_true = None\n",
    "#         self.y_pred = None\n",
    "#         #self.metric = tf.keras.metrics.F1Score(threshold=0.5)\n",
    "\n",
    "\n",
    "#     def set_model(self, model):\n",
    "#         \"\"\"Initialize variables when model is set.\"\"\"\n",
    "#         self.y_true = tf_nan(model.output.dtype)\n",
    "#         self.y_pred = tf_nan(model.output.dtype)\n",
    "\n",
    "#     def metric(self, y_true, y_pred):\n",
    "\n",
    "#         print(y_true,y_pred)\n",
    "#         \"\"\"Fake metric.\"\"\"\n",
    "#         if self.y_true is None:\n",
    "#             self.y_true.assign(y_true)\n",
    "#             self.y_pred.assign(y_pred)\n",
    "#         else:\n",
    "#             self.y_true = tf.concat([self.y_true,y_true],axis=0)\n",
    "#             self.y_pred = tf.concat([self.y_pred,y_pred],axis=0)\n",
    "\n",
    "# #         def create_one_hot_array(y_pred):\n",
    "# #         # Get the indices of the maximum values along each row\n",
    "# #           max_indices = np.argmax(y_pred, axis=1)\n",
    "          \n",
    "# #           # Create a new array with zeros\n",
    "# #           one_hot_array = np.zeros_like(y_pred)\n",
    "          \n",
    "# #           # Set 1 at the maximum value indices\n",
    "# #           one_hot_array[np.arange(len(y_pred)), max_indices] = 1\n",
    "        \n",
    "# #           return one_hot_array\n",
    "\n",
    "# #              #   _logs ['f1_Score'] = metric\n",
    "# #         # print(\"y_true =\", y_true.numpy().shape)\n",
    "# #         # print(\"y_pred =\", y_pred.numpy().shape)\n",
    "        \n",
    "# #         score = f1_score(y_true.numpy(),create_one_hot_array(y_pred.numpy()),average='macro')\n",
    "# #         #metric.update_state(y_true.nump\n",
    "# #        return score\n",
    "#          return 1\n",
    "\n",
    "#     def on_epoch_end(self, _batch, logs=None):\n",
    "#         def create_one_hot_array(y_pred):\n",
    "#         # Get the indices of the maximum values along each row\n",
    "#             max_indices = np.argmax(y_pred, axis=1)\n",
    "#             one_hot_array = np.zeros_like(y_pred)\n",
    "#             one_hot_array[np.arange(len(y_pred)), max_indices] = 1\n",
    "#             return one_hot_array\n",
    "\n",
    "#         score = f1_score(self.y_true.numpy(),create_one_hot_array(self.y_pred.numpy()),average='macro')\n",
    "\n",
    "#         print('f1_score')\n",
    "#         del self.y_true, self.y_pred\n",
    "\n",
    "\n",
    "\n",
    "#     # def on_epoch_end(self, _logs=None):\n",
    "#     #     \"\"\"Clean up.\"\"\"\n",
    "#     #     del self.y_true, self.y_pred\n",
    "\n",
    "# def tf_nan(dtype):\n",
    "#   \"\"\"Create NaN variable of proper dtype and variable shape for assign().\"\"\"\n",
    "#   return tf.Variable(float(\"nan\"), dtype=dtype, shape=tf.TensorShape(None))\n",
    "# f1_callback = DataCallback()"
   ]
  },
  {
   "cell_type": "code",
   "execution_count": null,
   "id": "0694b8d5",
   "metadata": {
    "id": "2SQ5swnfIljF",
    "papermill": {
     "duration": 0.318495,
     "end_time": "2023-12-02T01:32:21.556923",
     "exception": false,
     "start_time": "2023-12-02T01:32:21.238428",
     "status": "completed"
    },
    "tags": []
   },
   "outputs": [],
   "source": []
  },
  {
   "cell_type": "code",
   "execution_count": null,
   "id": "7127ab26",
   "metadata": {
    "id": "LW-CQKppIlhl",
    "papermill": {
     "duration": 0.356034,
     "end_time": "2023-12-02T01:32:22.248278",
     "exception": false,
     "start_time": "2023-12-02T01:32:21.892244",
     "status": "completed"
    },
    "tags": []
   },
   "outputs": [],
   "source": []
  },
  {
   "cell_type": "code",
   "execution_count": null,
   "id": "21be8e9f",
   "metadata": {
    "id": "ZblfgwdqIldW",
    "papermill": {
     "duration": 0.334768,
     "end_time": "2023-12-02T01:32:22.921916",
     "exception": false,
     "start_time": "2023-12-02T01:32:22.587148",
     "status": "completed"
    },
    "tags": []
   },
   "outputs": [],
   "source": []
  },
  {
   "cell_type": "code",
   "execution_count": null,
   "id": "1cf34006",
   "metadata": {
    "id": "qxSO0BcsIlZt",
    "papermill": {
     "duration": 0.320537,
     "end_time": "2023-12-02T01:32:23.565105",
     "exception": false,
     "start_time": "2023-12-02T01:32:23.244568",
     "status": "completed"
    },
    "tags": []
   },
   "outputs": [],
   "source": []
  },
  {
   "cell_type": "code",
   "execution_count": null,
   "id": "21e4703c",
   "metadata": {
    "id": "fX_cKTzvIlXW",
    "papermill": {
     "duration": 0.32415,
     "end_time": "2023-12-02T01:32:24.236835",
     "exception": false,
     "start_time": "2023-12-02T01:32:23.912685",
     "status": "completed"
    },
    "tags": []
   },
   "outputs": [],
   "source": []
  },
  {
   "cell_type": "code",
   "execution_count": null,
   "id": "64e0604f",
   "metadata": {
    "id": "DHyIrWfzIlUy",
    "papermill": {
     "duration": 0.32198,
     "end_time": "2023-12-02T01:32:24.876720",
     "exception": false,
     "start_time": "2023-12-02T01:32:24.554740",
     "status": "completed"
    },
    "tags": []
   },
   "outputs": [],
   "source": []
  },
  {
   "cell_type": "code",
   "execution_count": null,
   "id": "1d1d107b",
   "metadata": {
    "id": "x741A_G2IlSd",
    "papermill": {
     "duration": 0.316986,
     "end_time": "2023-12-02T01:32:25.579345",
     "exception": false,
     "start_time": "2023-12-02T01:32:25.262359",
     "status": "completed"
    },
    "tags": []
   },
   "outputs": [],
   "source": []
  },
  {
   "cell_type": "code",
   "execution_count": null,
   "id": "c7485a19",
   "metadata": {
    "id": "LM_FjKc7IlPZ",
    "papermill": {
     "duration": 0.356463,
     "end_time": "2023-12-02T01:32:26.254453",
     "exception": false,
     "start_time": "2023-12-02T01:32:25.897990",
     "status": "completed"
    },
    "tags": []
   },
   "outputs": [],
   "source": []
  },
  {
   "cell_type": "code",
   "execution_count": null,
   "id": "78ec2a93",
   "metadata": {
    "id": "S9_FjXi0IlNM",
    "papermill": {
     "duration": 0.34719,
     "end_time": "2023-12-02T01:32:26.953413",
     "exception": false,
     "start_time": "2023-12-02T01:32:26.606223",
     "status": "completed"
    },
    "tags": []
   },
   "outputs": [],
   "source": []
  },
  {
   "cell_type": "code",
   "execution_count": null,
   "id": "d87db86d",
   "metadata": {
    "id": "tTGVZDOuoYls",
    "papermill": {
     "duration": 0.322152,
     "end_time": "2023-12-02T01:32:27.603989",
     "exception": false,
     "start_time": "2023-12-02T01:32:27.281837",
     "status": "completed"
    },
    "tags": []
   },
   "outputs": [],
   "source": []
  },
  {
   "cell_type": "code",
   "execution_count": null,
   "id": "ca0b09bf",
   "metadata": {
    "id": "YbU4ue2LoYiJ",
    "papermill": {
     "duration": 0.318345,
     "end_time": "2023-12-02T01:32:28.244014",
     "exception": false,
     "start_time": "2023-12-02T01:32:27.925669",
     "status": "completed"
    },
    "tags": []
   },
   "outputs": [],
   "source": []
  },
  {
   "cell_type": "code",
   "execution_count": null,
   "id": "3eef0013",
   "metadata": {
    "id": "8A3rVbjPoYfS",
    "papermill": {
     "duration": 0.322085,
     "end_time": "2023-12-02T01:32:28.883979",
     "exception": false,
     "start_time": "2023-12-02T01:32:28.561894",
     "status": "completed"
    },
    "tags": []
   },
   "outputs": [],
   "source": []
  },
  {
   "cell_type": "code",
   "execution_count": null,
   "id": "fe36daa7",
   "metadata": {
    "id": "TbIr0fhSIOg3",
    "papermill": {
     "duration": 0.402588,
     "end_time": "2023-12-02T01:32:29.605301",
     "exception": false,
     "start_time": "2023-12-02T01:32:29.202713",
     "status": "completed"
    },
    "tags": []
   },
   "outputs": [],
   "source": []
  },
  {
   "cell_type": "code",
   "execution_count": null,
   "id": "dfb03e5b",
   "metadata": {
    "id": "7WBkfb35IOd2",
    "papermill": {
     "duration": 0.355298,
     "end_time": "2023-12-02T01:32:30.286053",
     "exception": false,
     "start_time": "2023-12-02T01:32:29.930755",
     "status": "completed"
    },
    "tags": []
   },
   "outputs": [],
   "source": []
  },
  {
   "cell_type": "code",
   "execution_count": null,
   "id": "0d62bd22",
   "metadata": {
    "id": "6CG3XWPlIObe",
    "papermill": {
     "duration": 0.322459,
     "end_time": "2023-12-02T01:32:30.933918",
     "exception": false,
     "start_time": "2023-12-02T01:32:30.611459",
     "status": "completed"
    },
    "tags": []
   },
   "outputs": [],
   "source": []
  },
  {
   "cell_type": "code",
   "execution_count": null,
   "id": "b0dc0137",
   "metadata": {
    "id": "FJAFQCkWIOZG",
    "papermill": {
     "duration": 0.319721,
     "end_time": "2023-12-02T01:32:31.575081",
     "exception": false,
     "start_time": "2023-12-02T01:32:31.255360",
     "status": "completed"
    },
    "tags": []
   },
   "outputs": [],
   "source": []
  },
  {
   "cell_type": "code",
   "execution_count": null,
   "id": "e4331631",
   "metadata": {
    "id": "2VDrAzaIIOWS",
    "papermill": {
     "duration": 0.318627,
     "end_time": "2023-12-02T01:32:32.214782",
     "exception": false,
     "start_time": "2023-12-02T01:32:31.896155",
     "status": "completed"
    },
    "tags": []
   },
   "outputs": [],
   "source": []
  },
  {
   "cell_type": "code",
   "execution_count": null,
   "id": "24b1163a",
   "metadata": {
    "id": "nBLGC1DIIOTD",
    "papermill": {
     "duration": 0.321686,
     "end_time": "2023-12-02T01:32:32.853167",
     "exception": false,
     "start_time": "2023-12-02T01:32:32.531481",
     "status": "completed"
    },
    "tags": []
   },
   "outputs": [],
   "source": []
  },
  {
   "cell_type": "markdown",
   "id": "c836c038",
   "metadata": {
    "id": "M1OnTqUGIO4o",
    "papermill": {
     "duration": 0.315725,
     "end_time": "2023-12-02T01:32:33.489062",
     "exception": false,
     "start_time": "2023-12-02T01:32:33.173337",
     "status": "completed"
    },
    "tags": []
   },
   "source": [
    "## SUBMITING OUR PREDICTIONS"
   ]
  },
  {
   "cell_type": "code",
   "execution_count": null,
   "id": "34e89925",
   "metadata": {
    "id": "3ajCZpSe7AZZ",
    "papermill": {
     "duration": 0.341497,
     "end_time": "2023-12-02T01:32:34.244434",
     "exception": false,
     "start_time": "2023-12-02T01:32:33.902937",
     "status": "completed"
    },
    "tags": []
   },
   "outputs": [],
   "source": []
  },
  {
   "cell_type": "code",
   "execution_count": null,
   "id": "358b6183",
   "metadata": {
    "id": "B6oOyg-ZnBFo",
    "papermill": {
     "duration": 0.323855,
     "end_time": "2023-12-02T01:32:34.885055",
     "exception": false,
     "start_time": "2023-12-02T01:32:34.561200",
     "status": "completed"
    },
    "tags": []
   },
   "outputs": [],
   "source": []
  }
 ],
 "metadata": {
  "accelerator": "TPU",
  "colab": {
   "provenance": []
  },
  "kaggle": {
   "accelerator": "nvidiaTeslaT4",
   "dataSources": [
    {
     "datasetId": 4092945,
     "sourceId": 7100369,
     "sourceType": "datasetVersion"
    },
    {
     "datasetId": 4093561,
     "sourceId": 7101235,
     "sourceType": "datasetVersion"
    }
   ],
   "dockerImageVersionId": 30588,
   "isGpuEnabled": true,
   "isInternetEnabled": true,
   "language": "python",
   "sourceType": "notebook"
  },
  "kernelspec": {
   "display_name": "Python 3",
   "language": "python",
   "name": "python3"
  },
  "language_info": {
   "codemirror_mode": {
    "name": "ipython",
    "version": 3
   },
   "file_extension": ".py",
   "mimetype": "text/x-python",
   "name": "python",
   "nbconvert_exporter": "python",
   "pygments_lexer": "ipython3",
   "version": "3.10.12"
  },
  "papermill": {
   "default_parameters": {},
   "duration": 13371.759671,
   "end_time": "2023-12-02T01:32:38.300207",
   "environment_variables": {},
   "exception": null,
   "input_path": "__notebook__.ipynb",
   "output_path": "__notebook__.ipynb",
   "parameters": {},
   "start_time": "2023-12-01T21:49:46.540536",
   "version": "2.4.0"
  }
 },
 "nbformat": 4,
 "nbformat_minor": 5
}
